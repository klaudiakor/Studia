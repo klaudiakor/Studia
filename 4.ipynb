{
  "cells": [
    {
      "cell_type": "markdown",
      "metadata": {
        "id": "I69629pGNhG3"
      },
      "source": [
        "### Today we are going to perform the simple classification of the amazon reviews' sentiment.\n",
        "\n",
        "### Please, download the dataset amazon_baby.csv."
      ]
    },
    {
      "cell_type": "code",
      "execution_count": 272,
      "metadata": {
        "colab": {
          "base_uri": "https://localhost:8080/",
          "height": 206
        },
        "id": "YBepCv2jNhG8",
        "outputId": "092ce9d5-7ef6-4288-da72-cd584fdfbde1"
      },
      "outputs": [
        {
          "data": {
            "text/html": [
              "<div>\n",
              "<style scoped>\n",
              "    .dataframe tbody tr th:only-of-type {\n",
              "        vertical-align: middle;\n",
              "    }\n",
              "\n",
              "    .dataframe tbody tr th {\n",
              "        vertical-align: top;\n",
              "    }\n",
              "\n",
              "    .dataframe thead th {\n",
              "        text-align: right;\n",
              "    }\n",
              "</style>\n",
              "<table border=\"1\" class=\"dataframe\">\n",
              "  <thead>\n",
              "    <tr style=\"text-align: right;\">\n",
              "      <th></th>\n",
              "      <th>name</th>\n",
              "      <th>review</th>\n",
              "      <th>rating</th>\n",
              "    </tr>\n",
              "  </thead>\n",
              "  <tbody>\n",
              "    <tr>\n",
              "      <th>0</th>\n",
              "      <td>Planetwise Flannel Wipes</td>\n",
              "      <td>These flannel wipes are OK, but in my opinion ...</td>\n",
              "      <td>3</td>\n",
              "    </tr>\n",
              "    <tr>\n",
              "      <th>1</th>\n",
              "      <td>Planetwise Wipe Pouch</td>\n",
              "      <td>it came early and was not disappointed. i love...</td>\n",
              "      <td>5</td>\n",
              "    </tr>\n",
              "    <tr>\n",
              "      <th>2</th>\n",
              "      <td>Annas Dream Full Quilt with 2 Shams</td>\n",
              "      <td>Very soft and comfortable and warmer than it l...</td>\n",
              "      <td>5</td>\n",
              "    </tr>\n",
              "    <tr>\n",
              "      <th>3</th>\n",
              "      <td>Stop Pacifier Sucking without tears with Thumb...</td>\n",
              "      <td>This is a product well worth the purchase.  I ...</td>\n",
              "      <td>5</td>\n",
              "    </tr>\n",
              "    <tr>\n",
              "      <th>4</th>\n",
              "      <td>Stop Pacifier Sucking without tears with Thumb...</td>\n",
              "      <td>All of my kids have cried non-stop when I trie...</td>\n",
              "      <td>5</td>\n",
              "    </tr>\n",
              "  </tbody>\n",
              "</table>\n",
              "</div>"
            ],
            "text/plain": [
              "                                                name  \\\n",
              "0                           Planetwise Flannel Wipes   \n",
              "1                              Planetwise Wipe Pouch   \n",
              "2                Annas Dream Full Quilt with 2 Shams   \n",
              "3  Stop Pacifier Sucking without tears with Thumb...   \n",
              "4  Stop Pacifier Sucking without tears with Thumb...   \n",
              "\n",
              "                                              review  rating  \n",
              "0  These flannel wipes are OK, but in my opinion ...       3  \n",
              "1  it came early and was not disappointed. i love...       5  \n",
              "2  Very soft and comfortable and warmer than it l...       5  \n",
              "3  This is a product well worth the purchase.  I ...       5  \n",
              "4  All of my kids have cried non-stop when I trie...       5  "
            ]
          },
          "execution_count": 272,
          "metadata": {},
          "output_type": "execute_result"
        }
      ],
      "source": [
        "import pandas as pd\n",
        "import numpy as np\n",
        "import matplotlib.pyplot as plt\n",
        "import string\n",
        "from sklearn.linear_model import LogisticRegression\n",
        "\n",
        "def remove_punctuation(text):\n",
        "    import string\n",
        "    translator = str.maketrans('', '', string.punctuation)\n",
        "    return text.translate(translator)\n",
        "\n",
        "baby_df = pd.read_csv('amazon_baby.csv')\n",
        "baby_df.head()"
      ]
    },
    {
      "cell_type": "markdown",
      "metadata": {},
      "source": [
        "Here we see head of dataset."
      ]
    },
    {
      "cell_type": "markdown",
      "metadata": {
        "id": "evcXHpQPNhG-"
      },
      "source": [
        "## Exercise 1 (data preparation)\n",
        "a) Remove punctuation from reviews using the given function.   \n",
        "b) Replace all missing (nan) revies with empty \"\" string.  \n",
        "c) Drop all the entries with rating = 3, as they have neutral sentiment.   \n",
        "d) Set all positive $\\geq 4$ ratings to 1 and negative $\\leq$ 2 to -1."
      ]
    },
    {
      "cell_type": "code",
      "execution_count": 273,
      "metadata": {
        "colab": {
          "base_uri": "https://localhost:8080/"
        },
        "id": "lR14Cu8fNhG_",
        "outputId": "a2bab69d-1770-4ba6-b85e-d43df6156b41"
      },
      "outputs": [
        {
          "name": "stderr",
          "output_type": "stream",
          "text": [
            "/tmp/ipykernel_513/2264967387.py:3: SettingWithCopyWarning: \n",
            "A value is trying to be set on a copy of a slice from a DataFrame\n",
            "\n",
            "See the caveats in the documentation: https://pandas.pydata.org/pandas-docs/stable/user_guide/indexing.html#returning-a-view-versus-a-copy\n",
            "  baby_df['review'][i] = remove_punctuation(str(baby_df['review'][i]))\n"
          ]
        },
        {
          "data": {
            "text/plain": [
              "True"
            ]
          },
          "execution_count": 273,
          "metadata": {},
          "output_type": "execute_result"
        }
      ],
      "source": [
        "#a)\n",
        "for i in range(len(baby_df['review'])):\n",
        "    baby_df['review'][i] = remove_punctuation(str(baby_df['review'][i]))\n",
        "    \n",
        "\n",
        "#short test: \n",
        "baby_df[\"review\"][4] == 'All of my kids have cried nonstop when I tried to ween them off their pacifier until I found Thumbuddy To Loves Binky Fairy Puppet  It is an easy way to work with your kids to allow them to understand where their pacifier is going and help them part from itThis is a must buy book and a great gift for expecting parents  You will save them soo many headachesThanks for this book  You all rock'\n",
        "remove_punctuation(baby_df[\"review\"][4]) == 'All of my kids have cried nonstop when I tried to ween them off their pacifier until I found Thumbuddy To Loves Binky Fairy Puppet  It is an easy way to work with your kids to allow them to understand where their pacifier is going and help them part from itThis is a must buy book and a great gift for expecting parents  You will save them soo many headachesThanks for this book  You all rock'"
      ]
    },
    {
      "cell_type": "code",
      "execution_count": 274,
      "metadata": {},
      "outputs": [
        {
          "data": {
            "text/plain": [
              "True"
            ]
          },
          "execution_count": 274,
          "metadata": {},
          "output_type": "execute_result"
        }
      ],
      "source": [
        "#test\n",
        "(baby_df[\"review\"][4]) == 'All of my kids have cried nonstop when I tried to ween them off their pacifier until I found Thumbuddy To Loves Binky Fairy Puppet  It is an easy way to work with your kids to allow them to understand where their pacifier is going and help them part from itThis is a must buy book and a great gift for expecting parents  You will save them soo many headachesThanks for this book  You all rock'"
      ]
    },
    {
      "cell_type": "code",
      "execution_count": 275,
      "metadata": {
        "colab": {
          "base_uri": "https://localhost:8080/",
          "height": 206
        },
        "id": "XvGRkb6qNhG_",
        "outputId": "d3196f6b-1086-41d0-c330-f57ffd089992"
      },
      "outputs": [
        {
          "data": {
            "text/html": [
              "<div>\n",
              "<style scoped>\n",
              "    .dataframe tbody tr th:only-of-type {\n",
              "        vertical-align: middle;\n",
              "    }\n",
              "\n",
              "    .dataframe tbody tr th {\n",
              "        vertical-align: top;\n",
              "    }\n",
              "\n",
              "    .dataframe thead th {\n",
              "        text-align: right;\n",
              "    }\n",
              "</style>\n",
              "<table border=\"1\" class=\"dataframe\">\n",
              "  <thead>\n",
              "    <tr style=\"text-align: right;\">\n",
              "      <th></th>\n",
              "      <th>name</th>\n",
              "      <th>review</th>\n",
              "      <th>rating</th>\n",
              "    </tr>\n",
              "  </thead>\n",
              "  <tbody>\n",
              "    <tr>\n",
              "      <th>0</th>\n",
              "      <td>Planetwise Flannel Wipes</td>\n",
              "      <td>These flannel wipes are OK but in my opinion n...</td>\n",
              "      <td>3</td>\n",
              "    </tr>\n",
              "    <tr>\n",
              "      <th>1</th>\n",
              "      <td>Planetwise Wipe Pouch</td>\n",
              "      <td>it came early and was not disappointed i love ...</td>\n",
              "      <td>5</td>\n",
              "    </tr>\n",
              "    <tr>\n",
              "      <th>2</th>\n",
              "      <td>Annas Dream Full Quilt with 2 Shams</td>\n",
              "      <td>Very soft and comfortable and warmer than it l...</td>\n",
              "      <td>5</td>\n",
              "    </tr>\n",
              "    <tr>\n",
              "      <th>3</th>\n",
              "      <td>Stop Pacifier Sucking without tears with Thumb...</td>\n",
              "      <td>This is a product well worth the purchase  I h...</td>\n",
              "      <td>5</td>\n",
              "    </tr>\n",
              "    <tr>\n",
              "      <th>4</th>\n",
              "      <td>Stop Pacifier Sucking without tears with Thumb...</td>\n",
              "      <td>All of my kids have cried nonstop when I tried...</td>\n",
              "      <td>5</td>\n",
              "    </tr>\n",
              "  </tbody>\n",
              "</table>\n",
              "</div>"
            ],
            "text/plain": [
              "                                                name  \\\n",
              "0                           Planetwise Flannel Wipes   \n",
              "1                              Planetwise Wipe Pouch   \n",
              "2                Annas Dream Full Quilt with 2 Shams   \n",
              "3  Stop Pacifier Sucking without tears with Thumb...   \n",
              "4  Stop Pacifier Sucking without tears with Thumb...   \n",
              "\n",
              "                                              review  rating  \n",
              "0  These flannel wipes are OK but in my opinion n...       3  \n",
              "1  it came early and was not disappointed i love ...       5  \n",
              "2  Very soft and comfortable and warmer than it l...       5  \n",
              "3  This is a product well worth the purchase  I h...       5  \n",
              "4  All of my kids have cried nonstop when I tried...       5  "
            ]
          },
          "execution_count": 275,
          "metadata": {},
          "output_type": "execute_result"
        }
      ],
      "source": [
        "baby_df.head()"
      ]
    },
    {
      "cell_type": "code",
      "execution_count": 276,
      "metadata": {
        "colab": {
          "base_uri": "https://localhost:8080/"
        },
        "id": "HfyVjFQbNhHA",
        "outputId": "82d93fd6-f756-4701-bcec-264be1d3602b"
      },
      "outputs": [
        {
          "data": {
            "text/plain": [
              "name      318\n",
              "review      0\n",
              "rating      0\n",
              "dtype: int64"
            ]
          },
          "execution_count": 276,
          "metadata": {},
          "output_type": "execute_result"
        }
      ],
      "source": [
        "baby_df.isnull().sum()"
      ]
    },
    {
      "cell_type": "code",
      "execution_count": 277,
      "metadata": {
        "colab": {
          "base_uri": "https://localhost:8080/"
        },
        "id": "BxYzz1txNhHA",
        "outputId": "4b552662-585f-405b-c771-70dca5761218"
      },
      "outputs": [
        {
          "data": {
            "text/plain": [
              "True"
            ]
          },
          "execution_count": 277,
          "metadata": {},
          "output_type": "execute_result"
        }
      ],
      "source": [
        "#b)\n",
        "baby_df[\"review\"].fillna(\"\", inplace=True)\n",
        "\n",
        "#short test:\n",
        "baby_df[\"review\"][38] == baby_df[\"review\"][38]"
      ]
    },
    {
      "cell_type": "code",
      "execution_count": 278,
      "metadata": {
        "colab": {
          "base_uri": "https://localhost:8080/"
        },
        "id": "VGglOWr8NhHB",
        "outputId": "213db599-6040-4009-c4ad-cefa2a798f59"
      },
      "outputs": [
        {
          "data": {
            "text/plain": [
              "name      318\n",
              "review      0\n",
              "rating      0\n",
              "dtype: int64"
            ]
          },
          "execution_count": 278,
          "metadata": {},
          "output_type": "execute_result"
        }
      ],
      "source": [
        "baby_df.isnull().sum()"
      ]
    },
    {
      "cell_type": "code",
      "execution_count": 279,
      "metadata": {
        "colab": {
          "base_uri": "https://localhost:8080/"
        },
        "id": "MB2z4ZDONhHC",
        "outputId": "cf78dca9-f48a-4ff1-f680-876597113014"
      },
      "outputs": [
        {
          "data": {
            "text/plain": [
              "0"
            ]
          },
          "execution_count": 279,
          "metadata": {},
          "output_type": "execute_result"
        }
      ],
      "source": [
        "#c)\n",
        "\n",
        "baby_df.drop(baby_df.loc[baby_df[\"rating\"] == 3].index, inplace = True)\n",
        "\n",
        "\n",
        "#short test:\n",
        "sum(baby_df[\"rating\"] == 3)\n",
        "\n"
      ]
    },
    {
      "cell_type": "code",
      "execution_count": 280,
      "metadata": {
        "colab": {
          "base_uri": "https://localhost:8080/",
          "height": 300
        },
        "id": "p8eUuqP5NhHC",
        "outputId": "b8ebb76f-ff64-4222-c531-d61113ee9d80"
      },
      "outputs": [
        {
          "data": {
            "text/html": [
              "<div>\n",
              "<style scoped>\n",
              "    .dataframe tbody tr th:only-of-type {\n",
              "        vertical-align: middle;\n",
              "    }\n",
              "\n",
              "    .dataframe tbody tr th {\n",
              "        vertical-align: top;\n",
              "    }\n",
              "\n",
              "    .dataframe thead th {\n",
              "        text-align: right;\n",
              "    }\n",
              "</style>\n",
              "<table border=\"1\" class=\"dataframe\">\n",
              "  <thead>\n",
              "    <tr style=\"text-align: right;\">\n",
              "      <th></th>\n",
              "      <th>rating</th>\n",
              "    </tr>\n",
              "  </thead>\n",
              "  <tbody>\n",
              "    <tr>\n",
              "      <th>count</th>\n",
              "      <td>166752.000000</td>\n",
              "    </tr>\n",
              "    <tr>\n",
              "      <th>mean</th>\n",
              "      <td>4.233191</td>\n",
              "    </tr>\n",
              "    <tr>\n",
              "      <th>std</th>\n",
              "      <td>1.295527</td>\n",
              "    </tr>\n",
              "    <tr>\n",
              "      <th>min</th>\n",
              "      <td>1.000000</td>\n",
              "    </tr>\n",
              "    <tr>\n",
              "      <th>25%</th>\n",
              "      <td>4.000000</td>\n",
              "    </tr>\n",
              "    <tr>\n",
              "      <th>50%</th>\n",
              "      <td>5.000000</td>\n",
              "    </tr>\n",
              "    <tr>\n",
              "      <th>75%</th>\n",
              "      <td>5.000000</td>\n",
              "    </tr>\n",
              "    <tr>\n",
              "      <th>max</th>\n",
              "      <td>5.000000</td>\n",
              "    </tr>\n",
              "  </tbody>\n",
              "</table>\n",
              "</div>"
            ],
            "text/plain": [
              "              rating\n",
              "count  166752.000000\n",
              "mean        4.233191\n",
              "std         1.295527\n",
              "min         1.000000\n",
              "25%         4.000000\n",
              "50%         5.000000\n",
              "75%         5.000000\n",
              "max         5.000000"
            ]
          },
          "execution_count": 280,
          "metadata": {},
          "output_type": "execute_result"
        }
      ],
      "source": [
        "baby_df.describe()"
      ]
    },
    {
      "cell_type": "code",
      "execution_count": 281,
      "metadata": {
        "colab": {
          "base_uri": "https://localhost:8080/"
        },
        "id": "zZmusrFwNhHD",
        "outputId": "14948f5c-9746-4f39-87d9-474db9db7c3d"
      },
      "outputs": [
        {
          "data": {
            "text/plain": [
              "0"
            ]
          },
          "execution_count": 281,
          "metadata": {},
          "output_type": "execute_result"
        }
      ],
      "source": [
        "#d) \n",
        "\n",
        "baby_df[\"rating\"].replace({1: -1, 2: -1, 4: 1, 5: 1}, inplace=True)\n",
        "\n",
        "#short test:\n",
        "sum(baby_df[\"rating\"]**2 != 1)\n"
      ]
    },
    {
      "cell_type": "markdown",
      "metadata": {},
      "source": [
        "The rating has 2 values -1 or 1, depending on whether the review is positive or negative."
      ]
    },
    {
      "cell_type": "markdown",
      "metadata": {
        "id": "UieYZXvjNhHD"
      },
      "source": [
        "## CountVectorizer\n",
        "In order to analyze strings, we need to assign them numerical values. We will use one of the simplest string representation, which transforms strings into the $n$ dimensional vectors. The number of dimensions will be the size of our dictionary, and then the values of the vector will represent the number of appereances of the given word in the sentence."
      ]
    },
    {
      "cell_type": "code",
      "execution_count": 282,
      "metadata": {
        "colab": {
          "base_uri": "https://localhost:8080/"
        },
        "id": "16rEeNjhNhHE",
        "outputId": "888c2424-d58f-4510-bdd8-ebe6c76b1d4f"
      },
      "outputs": [
        {
          "name": "stdout",
          "output_type": "stream",
          "text": [
            "['adore', 'and', 'apples', 'bananas', 'dislike', 'hate', 'like', 'oranges', 'they', 'we']\n",
            "[[0 0 1 0 0 0 1 0 0 1]\n",
            " [0 0 0 0 0 1 0 1 0 1]\n",
            " [1 0 0 1 0 0 0 0 0 0]\n",
            " [0 1 1 0 0 0 2 1 0 1]\n",
            " [0 0 0 1 1 0 0 0 1 0]]\n"
          ]
        },
        {
          "name": "stderr",
          "output_type": "stream",
          "text": [
            "/home/klaud/.local/lib/python3.10/site-packages/sklearn/utils/deprecation.py:87: FutureWarning: Function get_feature_names is deprecated; get_feature_names is deprecated in 1.0 and will be removed in 1.2. Please use get_feature_names_out instead.\n",
            "  warnings.warn(msg, category=FutureWarning)\n"
          ]
        }
      ],
      "source": [
        "from sklearn.feature_extraction.text import CountVectorizer\n",
        "\n",
        "vectorizer = CountVectorizer()\n",
        "reviews_train_example = [\"We like apples\",\n",
        "                   \"We hate oranges\",\n",
        "                   \"I adore bananas\",\n",
        "                   \"We like like apples and oranges\",\n",
        "                   \"They dislike bananas\"]\n",
        "\n",
        "X_train_example = vectorizer.fit_transform(reviews_train_example)\n",
        "\n",
        "print(vectorizer.get_feature_names())\n",
        "print(X_train_example.todense())\n",
        "\n"
      ]
    },
    {
      "cell_type": "code",
      "execution_count": 283,
      "metadata": {
        "colab": {
          "base_uri": "https://localhost:8080/"
        },
        "id": "t6YN-sNFNhHF",
        "outputId": "c041bdb6-c263-4f1c-ce9d-beef6a2e26e7"
      },
      "outputs": [
        {
          "name": "stdout",
          "output_type": "stream",
          "text": [
            "[[0 0 0 1 0 0 1 0 1 0]\n",
            " [0 1 1 1 0 1 0 1 0 1]\n",
            " [0 0 0 1 0 0 0 0 0 1]]\n"
          ]
        }
      ],
      "source": [
        "reviews_test_example = [\"They like bananas\",\n",
        "                   \"We hate oranges bananas and apples\",\n",
        "                   \"We love bananas\"] #New word!\n",
        "\n",
        "X_test_example = vectorizer.transform(reviews_test_example)\n",
        "print(X_test_example.todense())"
      ]
    },
    {
      "cell_type": "markdown",
      "metadata": {
        "id": "0oxE1pbRNhHF"
      },
      "source": [
        "We should acknowledge few facts. Firstly, CountVectorizer does not take order into account. Secondly, it ignores one-letter words (this can be changed during initialization). Finally, for test values, CountVectorizer ignores words which are not in it's dictionary."
      ]
    },
    {
      "cell_type": "markdown",
      "metadata": {
        "id": "t0J9WJnnNhHF"
      },
      "source": [
        "## Exercise 2 \n",
        "a) Split dataset into training and test sets.     \n",
        "b) Transform reviews into vectors using CountVectorizer. "
      ]
    },
    {
      "cell_type": "code",
      "execution_count": 284,
      "metadata": {
        "collapsed": true,
        "id": "RKcdIT-ENhHF"
      },
      "outputs": [],
      "source": [
        "#a)\n",
        "from sklearn.model_selection import train_test_split\n",
        "\n",
        "reviews = baby_df.review.values.reshape(-1,1)\n",
        "rating = baby_df.rating.values.reshape(-1)\n",
        "\n",
        "reviews_train, reviews_test, y_train, y_test = train_test_split(reviews,rating, test_size=0.3)"
      ]
    },
    {
      "cell_type": "markdown",
      "metadata": {},
      "source": [
        "I'm splitting the dataset into training and test sets in the proportion that the test is 30% of the dataset and training is 70%.\n"
      ]
    },
    {
      "cell_type": "code",
      "execution_count": 285,
      "metadata": {
        "colab": {
          "base_uri": "https://localhost:8080/"
        },
        "collapsed": true,
        "id": "gcC0dAmGNhHG",
        "outputId": "596903f6-0aa9-4bc2-cc01-a59b3be0c3c1"
      },
      "outputs": [],
      "source": [
        "#b)\n",
        "\n",
        "vectorizer = CountVectorizer()\n",
        "\n",
        "X_train = vectorizer.fit_transform(reviews_train.ravel())\n",
        "\n",
        "# print(vectorizer.get_feature_names())\n",
        "# print(X_train.todense())\n"
      ]
    },
    {
      "cell_type": "markdown",
      "metadata": {
        "id": "_ZftbPwDNhHG"
      },
      "source": [
        "## Exercise 3 \n",
        "a) Train LogisticRegression model on training data (reviews processed with CountVectorizer, ratings as they were).   \n",
        "b) Print 10 most positive and 10 most negative words."
      ]
    },
    {
      "cell_type": "code",
      "execution_count": 286,
      "metadata": {
        "colab": {
          "base_uri": "https://localhost:8080/"
        },
        "collapsed": true,
        "id": "b8PAPtLKNhHH",
        "outputId": "cca06379-4377-4940-a2e3-6cff2efa3065"
      },
      "outputs": [
        {
          "data": {
            "text/html": [
              "<style>#sk-container-id-18 {color: black;background-color: white;}#sk-container-id-18 pre{padding: 0;}#sk-container-id-18 div.sk-toggleable {background-color: white;}#sk-container-id-18 label.sk-toggleable__label {cursor: pointer;display: block;width: 100%;margin-bottom: 0;padding: 0.3em;box-sizing: border-box;text-align: center;}#sk-container-id-18 label.sk-toggleable__label-arrow:before {content: \"▸\";float: left;margin-right: 0.25em;color: #696969;}#sk-container-id-18 label.sk-toggleable__label-arrow:hover:before {color: black;}#sk-container-id-18 div.sk-estimator:hover label.sk-toggleable__label-arrow:before {color: black;}#sk-container-id-18 div.sk-toggleable__content {max-height: 0;max-width: 0;overflow: hidden;text-align: left;background-color: #f0f8ff;}#sk-container-id-18 div.sk-toggleable__content pre {margin: 0.2em;color: black;border-radius: 0.25em;background-color: #f0f8ff;}#sk-container-id-18 input.sk-toggleable__control:checked~div.sk-toggleable__content {max-height: 200px;max-width: 100%;overflow: auto;}#sk-container-id-18 input.sk-toggleable__control:checked~label.sk-toggleable__label-arrow:before {content: \"▾\";}#sk-container-id-18 div.sk-estimator input.sk-toggleable__control:checked~label.sk-toggleable__label {background-color: #d4ebff;}#sk-container-id-18 div.sk-label input.sk-toggleable__control:checked~label.sk-toggleable__label {background-color: #d4ebff;}#sk-container-id-18 input.sk-hidden--visually {border: 0;clip: rect(1px 1px 1px 1px);clip: rect(1px, 1px, 1px, 1px);height: 1px;margin: -1px;overflow: hidden;padding: 0;position: absolute;width: 1px;}#sk-container-id-18 div.sk-estimator {font-family: monospace;background-color: #f0f8ff;border: 1px dotted black;border-radius: 0.25em;box-sizing: border-box;margin-bottom: 0.5em;}#sk-container-id-18 div.sk-estimator:hover {background-color: #d4ebff;}#sk-container-id-18 div.sk-parallel-item::after {content: \"\";width: 100%;border-bottom: 1px solid gray;flex-grow: 1;}#sk-container-id-18 div.sk-label:hover label.sk-toggleable__label {background-color: #d4ebff;}#sk-container-id-18 div.sk-serial::before {content: \"\";position: absolute;border-left: 1px solid gray;box-sizing: border-box;top: 0;bottom: 0;left: 50%;z-index: 0;}#sk-container-id-18 div.sk-serial {display: flex;flex-direction: column;align-items: center;background-color: white;padding-right: 0.2em;padding-left: 0.2em;position: relative;}#sk-container-id-18 div.sk-item {position: relative;z-index: 1;}#sk-container-id-18 div.sk-parallel {display: flex;align-items: stretch;justify-content: center;background-color: white;position: relative;}#sk-container-id-18 div.sk-item::before, #sk-container-id-18 div.sk-parallel-item::before {content: \"\";position: absolute;border-left: 1px solid gray;box-sizing: border-box;top: 0;bottom: 0;left: 50%;z-index: -1;}#sk-container-id-18 div.sk-parallel-item {display: flex;flex-direction: column;z-index: 1;position: relative;background-color: white;}#sk-container-id-18 div.sk-parallel-item:first-child::after {align-self: flex-end;width: 50%;}#sk-container-id-18 div.sk-parallel-item:last-child::after {align-self: flex-start;width: 50%;}#sk-container-id-18 div.sk-parallel-item:only-child::after {width: 0;}#sk-container-id-18 div.sk-dashed-wrapped {border: 1px dashed gray;margin: 0 0.4em 0.5em 0.4em;box-sizing: border-box;padding-bottom: 0.4em;background-color: white;}#sk-container-id-18 div.sk-label label {font-family: monospace;font-weight: bold;display: inline-block;line-height: 1.2em;}#sk-container-id-18 div.sk-label-container {text-align: center;}#sk-container-id-18 div.sk-container {/* jupyter's `normalize.less` sets `[hidden] { display: none; }` but bootstrap.min.css set `[hidden] { display: none !important; }` so we also need the `!important` here to be able to override the default hidden behavior on the sphinx rendered scikit-learn.org. See: https://github.com/scikit-learn/scikit-learn/issues/21755 */display: inline-block !important;position: relative;}#sk-container-id-18 div.sk-text-repr-fallback {display: none;}</style><div id=\"sk-container-id-18\" class=\"sk-top-container\"><div class=\"sk-text-repr-fallback\"><pre>LogisticRegression(max_iter=2000)</pre><b>In a Jupyter environment, please rerun this cell to show the HTML representation or trust the notebook. <br />On GitHub, the HTML representation is unable to render, please try loading this page with nbviewer.org.</b></div><div class=\"sk-container\" hidden><div class=\"sk-item\"><div class=\"sk-estimator sk-toggleable\"><input class=\"sk-toggleable__control sk-hidden--visually\" id=\"sk-estimator-id-18\" type=\"checkbox\" checked><label for=\"sk-estimator-id-18\" class=\"sk-toggleable__label sk-toggleable__label-arrow\">LogisticRegression</label><div class=\"sk-toggleable__content\"><pre>LogisticRegression(max_iter=2000)</pre></div></div></div></div></div>"
            ],
            "text/plain": [
              "LogisticRegression(max_iter=2000)"
            ]
          },
          "execution_count": 286,
          "metadata": {},
          "output_type": "execute_result"
        }
      ],
      "source": [
        "#a)\n",
        "model = LogisticRegression(max_iter=2000)\n",
        "model.fit(X_train, y_train)\n"
      ]
    },
    {
      "cell_type": "markdown",
      "metadata": {},
      "source": [
        "Creation model of logistic regression with a bigger number of iterations because our dataset is too big."
      ]
    },
    {
      "cell_type": "code",
      "execution_count": 287,
      "metadata": {
        "colab": {
          "base_uri": "https://localhost:8080/"
        },
        "id": "8uEc-yM7ysPi",
        "outputId": "349a9f22-5892-4de3-dcae-c25cf2b32d75"
      },
      "outputs": [
        {
          "name": "stderr",
          "output_type": "stream",
          "text": [
            "/home/klaud/.local/lib/python3.10/site-packages/sklearn/utils/deprecation.py:87: FutureWarning: Function get_feature_names is deprecated; get_feature_names is deprecated in 1.0 and will be removed in 1.2. Please use get_feature_names_out instead.\n",
            "  warnings.warn(msg, category=FutureWarning)\n"
          ]
        },
        {
          "name": "stdout",
          "output_type": "stream",
          "text": [
            "Negative: \n",
            "word\t\tcoef\n",
            "('dissapointed', -2.869900335535926)\n",
            "('worst', -2.7357007953485994)\n",
            "('worthless', -2.6242619912601226)\n",
            "('disappointing', -2.5043846004027444)\n",
            "('useless', -2.480909383366112)\n",
            "('poor', -2.4407002284006096)\n",
            "('theory', -2.3905292606590316)\n",
            "('poorly', -2.3738154639875897)\n",
            "('shame', -2.271842241736584)\n",
            "('disappointed', -2.1927525595269546)\n",
            "Positive: \n",
            "word\t\tcoef\n",
            "('con', 1.8068141253097656)\n",
            "('perfect', 1.8143354853374791)\n",
            "('perfectly', 1.8494611041241396)\n",
            "('minor', 1.8627812790578622)\n",
            "('penny', 1.9059388844080818)\n",
            "('ply', 1.9585718496227098)\n",
            "('excellent', 2.0102268675151906)\n",
            "('worry', 2.0340061491520944)\n",
            "('skeptical', 2.1840167171366707)\n",
            "('rich', 2.2259654712212242)\n"
          ]
        }
      ],
      "source": [
        "#b)\n",
        "feature_names = vectorizer.get_feature_names()\n",
        "coef = model.coef_.reshape(-1).tolist()\n",
        "\n",
        "dic = {}\n",
        "for F, C in zip(feature_names, coef):\n",
        "    dic[F] = float(C)\n",
        "\n",
        "sorted_dict = dict(sorted(dic.items(), key=lambda item: item[1]))\n",
        "lowest = list(sorted_dict.items())[:10]\n",
        "highest = list(sorted_dict.items())[-10:]\n",
        "\n",
        "print(\"Negative: \\nword\\t\\tcoef\")\n",
        "for elem in lowest:\n",
        "    print(elem)\n",
        "\n",
        "\n",
        "print(\"Positive: \\nword\\t\\tcoef\")\n",
        "for elem in highest:\n",
        "    print(elem)\n",
        "\n"
      ]
    },
    {
      "cell_type": "markdown",
      "metadata": {},
      "source": [
        "Here we see the 10 most positive (with the biggest coefficients) and negative (with the smallest coefficients) words.\n",
        "we can tell that these words \n",
        "\n",
        "We can say that most of these words make sense, such as 'worst', 'disappointing', 'poorly' etc. I don't know what the meaning of the word 'tomorrow' is, for example, because it is not negative in itself, but apparently, it is important. Similarly, with positive words, we have clearly positive like 'excellent' or 'satisfied'."
      ]
    },
    {
      "cell_type": "markdown",
      "metadata": {
        "id": "C0YNPbxlNhHH"
      },
      "source": [
        "## Exercise 4 \n",
        "a) Predict the sentiment of test data reviews.   \n",
        "b) Predict the sentiment of test data reviews in terms of probability.   \n",
        "c) Find five most positive and most negative reviews.   \n",
        "d) Calculate the accuracy of predictions."
      ]
    },
    {
      "cell_type": "code",
      "execution_count": 288,
      "metadata": {
        "collapsed": true,
        "id": "OLxfGTWjNhHH"
      },
      "outputs": [
        {
          "name": "stdout",
          "output_type": "stream",
          "text": [
            "[ 1  1  1 ...  1  1 -1]\n"
          ]
        }
      ],
      "source": [
        "#a) Predict the sentiment of test data reviews.\n",
        "X_test = vectorizer.transform(reviews_test.ravel())\n",
        "y_pred = model.predict(X_test)\n",
        "print(y_pred)"
      ]
    },
    {
      "cell_type": "code",
      "execution_count": 289,
      "metadata": {
        "colab": {
          "base_uri": "https://localhost:8080/"
        },
        "collapsed": true,
        "id": "DqWT66hxNhHI",
        "outputId": "9c457687-83d8-46e1-81f5-8c10d5e2f093"
      },
      "outputs": [
        {
          "name": "stdout",
          "output_type": "stream",
          "text": [
            "[[7.51939513e-05 9.99924806e-01]\n",
            " [3.74526008e-02 9.62547399e-01]\n",
            " [1.75043759e-02 9.82495624e-01]\n",
            " ...\n",
            " [1.41483347e-01 8.58516653e-01]\n",
            " [2.28083766e-03 9.97719162e-01]\n",
            " [8.59815936e-01 1.40184064e-01]]\n"
          ]
        }
      ],
      "source": [
        "#b) Predict the sentiment of test data reviews in terms of probability.\n",
        "probability_arr = model.predict_proba(X_test)\n",
        "print(probability_arr)\n",
        "#hint: model.predict_proba()"
      ]
    },
    {
      "cell_type": "markdown",
      "metadata": {},
      "source": [
        "There is a table that contains values representing the probability that the sample is from 1st or 2nd class. One of the classes represents a positive review another one a negative review"
      ]
    },
    {
      "cell_type": "code",
      "execution_count": 290,
      "metadata": {
        "colab": {
          "base_uri": "https://localhost:8080/"
        },
        "collapsed": true,
        "id": "pg_IkfrtNhHI",
        "outputId": "b0cd9966-6186-4de0-a134-911adc3b84fd"
      },
      "outputs": [
        {
          "name": "stdout",
          "output_type": "stream",
          "text": [
            "------ Negative reviews ------ \n",
            "I have NEVER written a review before for anything DO NOT BUY THIS PRODUCTThis is a very expensive monitor and the features are awesome It is really a fantastic monitor truly The clarity is great the VOX feature is awesome the intercom is fabulous for older kids although there is a delay on it so after you speak you cannot hear the response as it wont pick up sounds for several seconds after you let go of the talk button And I REALLY hate that you cannot mute the volume The lullaby feature is nice but I do NOT want to sit there and listen to the lullaby myself But you must No muteBUTafter only 10 months of use our camera just stopped working I unplugged the camera to move it to a safer location as our son had become mobile and I was concerned he could reach the cord and pull it down onto himself When I plugged the camera back in nothing The green power light would not come onI naturally thought it was the outlet Checked the fuse box etc But it was not the outlet No other outlet in the house worked despite other appliances working just fine so clearly it was not a problem on our endWe then attempted three different sets of new batteries That also did not work So it is not a battery problemWhen plugged in the camera briefly indicated that it was receiving power so it was getting power just not turning onWhat a pain in the butt When I bought this system it had fabulous reviews What a shock it was to come on here and see how the reviews have dramatically tanked since we decided on this systemI called but could not get through I emailed and emailed and emailed again but two weeks have gone by and there has been no response I have sent a message through their contact us form on their website but have received no response by the time these guys get back to us our warranty will have expired I think well be out the 230 we spent on this machine And all this time weve been without a monitor for our little onewho happens to have a bedroom on a different level of our home It has been a total nightmareAs of today I still have not heard back from Levana and despite their bogus claim that you can call or reach them through live chat I have been unable to reach them despite multiple attemptsJust now I tried to plug my camera in and it lit up and started working I have NO idea why and Im sure it wont last I can only hope that Ill get at least another 6 months1 year out of the camera and I will NEVER buy another Levana product EVER againI will also be filing a complaint with the BBB and I recommend all the negative reviewers out there that have received horrible customer service do the same Not all families have hundreds of dollars to throw down the drain on a fancy monitor just to replace it again before one year has passed So much for their wonderful lifetime supportSHAME on you Levana Stop pedaling your horrible made in china GARBAGEIT IS A DANGEROUS MONITORWhen youre expecting something to let you know your child is safe and it fails on you it can really lead to suffering for your child as well as injury or even death What of the battery life It is NOT 45 hours as they claim I brought my monitor upstairs with me to take a short nap and I did not expect to need the charger as the monitor was completely charged I fell asleep and since my then fourmonthold was still not a very good night sleeper I was exhausted and was sleeping very deeply The monitors battery failed and the machine shut off at some point because I woke up about 45 minutes later to the very faint sound of my infant son screaming his head off Our bedrooms are on different levels of the house and I was COUNTING on this monitor to let me know if my son woke upMy poor infant son had rolled in such a way as to get his fat little thigh wedged between the bars in his crib with the leg hanging out He had twisted and he couldnt get himself back through This caused him to have his face smashed pretty hard into the mattress surface Also by the time I got to him his foot was absolutely purple I had a very difficult time removing the swollen leg from the crib bars and thank GOD my son did not exhaust himself and suffocate in the crib mattress while I was sleeping and relying on my monitor to warn me if he needed me for anythingMy poor son had a purple bruise on his nose because of being smashed into the mattress and his leg had such an awful and painful looking purple indented ring around it for days Thank God his foot and lower leg did not suffer any permanent vascular damage from lack of oxygenated blood Who knows how long my little sweetie was stuck in there before I woke up That is an awful thing to happen to a child and his parents but with all the concerns about crib bumpers I hadnt installed themI installed mesh bumpers after that but I have never again fallen asleep without the monitor attached to the pluggedin charging baseSave yourself the worry hassle and headache Go with a triedandtrue brand that truly boasts of fabulous customer service \n",
            "\n",
            "I would recommend in the strongest possible way no one ever buy this product The other reviews of this product are all too kind and they say so in their descriptions All of them point out that the product does not work smoothly or seem to do anything magically different they also seem to give 3 stars without comparing the product to anything else I have compared the product to something elsea regular trash canand the regular trash can was better And the regular trash can didnt even have a lid on it A family friend also purchased this thing and has the exact same complaints Namely that the lid gets stuck that you have to hunch over and shove the diapers into the pail and that you have to buy replacement bags every month or few weeks In the end this thing is a waste of money and is simply worse than a regular old trash can Detailed descriptions belowThe Munchkin1 There are major issues with the lid The lid is supposed to keep out odors while sprinkling a tiny really tiny amount of baking soda as you close it and initiating a mechanical twist of the bag to further seal off the odors However the lid is constantly fighting with the mechanics that twist the bag creating starting when then bag gets about half full a series of sounds reminiscent of small arms fire Crackcrack crackcrack  You will live in constant fear of a late night gun battle playing out in the childs room leading to a screaming sleepy cranky baby Closing the lid twists the top part of the bag in a ring of rubber sharklike teeth thereby closing off the bag as well However the lid will often simply get stuck open because these rubber teeth put too much pressure on the mechanics of the lid This forces you to stick your hand into the pail itself and move the bag around to relieve the pressure so the lid will close Think about ityou have to stick your hand into the very closure intended to keep odors out Very often you have to decide between fixing the lid or picking up a now grumpy baby2 The rubber teeth are a pain Often the rubber teeth create to much counter pressure to the closing of the lid and the entire process comes to a plastic cracking halt Even if the lid works correctly you still have to shove the diaper through the rubber teeth You can not just drop a diaper in instead you have to jam it through the teeth Every time you change a diaper you have to bend down and shove your hand through a set of rubber teeth two feet off the floor And two feet off the floor is correct This thing barely comes up to my kneecaps Think about iteven when working 100 correctly you have to bend over two feet and jam your fist partially through a set of rubber teeth How is that better than dropping a diaper into a bucket3 Whats the deal with the bags I meanfor serious A bag lasts you maybe 4 days at a max and more like 48 hours Munchkin wants you to fork out whatever bucks a month for replacement bags I think this is the entire reason for the mechanical twisting of the bags and not to keep in smells The tops of the bags have plastic ring you set into the top of the pail and which then snaps into place The replacement bags are only 510 bucks a box but it seems like a real scam I have tried two things A I wondered what would happen if I reused one of the Munchkin bags Nothing bad happened at all I dumped the diapers into the outside trash and put the bag back No smells no nastiness nothing bad happened at all I used the same bag for two weeks rather than two days After two weeks of us there were still no smells B I then decided to try a regular trash bag It worked fine You just have to leave a bit of the bag sticking out beyond the lid to make sure the rubber teeth dont pull the thing completely into the pail when you close the lid4 The baking soda does nothing A novel idea sure But like the twisting of the bags it seems like a gimmick The level of baking soda dropped into the bag when you close the lid is minor and the baking soda compartment is totally closed off I do not see how either is doing much to absorb odorsAlternativesThe only alternative I have used is an old plastic trash can with an open bag in it and no lid I dropped diapers in it for 5 days without emptying it No smells whatsoever Half the time it was nice out and we had the windows open The other half of the time it was 90 degrees and the air conditioning was on In both cases it worked out fine No smellsConclusionsDo not buy this munchkin monstrosity Every time you use it you will wonder if the lid will close or start making cracking noises as it struggles to twist the bag Buy a trashcan with a lid Maybe one with a step lid And if your kid makes a smelly one Empty the trash can Why would you want to keep that stuff inside a nursery anyway The munchkin is a gimmicky thing and not worth it at all It seems like a great idea but in actuality the thing does not work \n",
            "\n",
            "I received this pump through insurance and I figured that free is always good  I was an idiot  I started pumping when my daughter turned one month old  For the first month or so this pump worked well  I was able to get many ounces in a fairly short period of time  I was pumping about twice a day at that point morning and night to build up a stash  However shortly before my maternity leave ended this pump started making a slightly weird noise in the motor and the suction didnt seem as good  Upon my return to work last month this pump has been horrible  I pump three times a day at work and also in the morning and night for a total of 5 sessions and Im lucky if I get three ounces total at each pumping session at nearly 30 minutes a piece  Yes I spend nearly two hours every single day using this machine to get maybe 15 ounces total  At first I thought it was a supply issue and starting drowning myself in Fenugreek and Mothers Milk but then realized that this pump is the issue  Ive replaced all the tubing and valves but theres been no change  This pump sucks but unfortunately not literally  Heres a breakdown of whyPros1 Free2 Closed system means no worries about mold3 Cheaper than the comparable alternativesCons1 Motor slowly dying after 3 months of use only one month of heavy use  A common complaint from the reviews on here2 Loud Im embarrassed to pump at work3 Closed system in theory but I commonly find milk up in the diaphragm which means it can get into the tubing easy4 About twice a day I have to stop in the middle of a pumping session because the diaphragm wont fully expand  Its easily corrected by popping off the caps and repositioning them5 Milk constantly leaks from underneath flange  I have to hold a burp cloth underneath every single time I pump and even then I end up with milk on my pants at times6 Nearly impossible to use handsfree  Because the flange is attached you either have to stretch out the opening of your bra to use hands free or just dont do hands free  Even if you stretch out the opening the suction even when it was brand new and functioning at its best wasnt strong enough to keep the flanges properly in place7  Calling it a 34double34 electric is a joke  First off read 5 above  Second off the suction is so poor that trying to split the power between two makes it even more ineffective  Because of this I spend a large part of my work day pumping one side at a timeIve read reviews that state that their customer service is awesome  I plan to call them soon to address my issues but I guess because this pump is still technically 34working34 Im lazy and am trying to procrastinate on the hassle of it  Regardless if their customer service is amazing Id still rate this one star because of serious design flaws and the fact that theres no acceptable excuse why this pump is failing so miserably in such a short period time \n",
            "\n",
            "I have rated and left reviews for many items on Amazon over the years I typically only review 4 and 5star products I liked and can recommend to others This is the first time I have ever rated something as 1 star But unfortunately this product is that badIn fairness I did not buy this from Amazon I bought it at a discount store and it was marked on asis clearance Im typically a DIY kind of person but were taking a twoday road trip with my 2 yr old this week so I spotted this thought it was a good price and bought it knowing full well that I could not return it I just trusted that it would work or at the very least that I could perform some kind of hack to make it work if it didntI liked that it seemed very kidfriendly and kidsafe could be propped up to a stand and that I could even hang from the headrest of the seat in front if I wanted to hanging from the headrest was not suggested as a use for the product but I quickly discovered that this would work if I removed the headrest and slipped the loop through the prongs and stuck it back on When I got home though I could not get my 1st generation iPad the one that I usually share with my daughter to fit into the case no matter how hard I tried The product description states that it fits all three generation IPads which I assumed to mean the first three generations My husband has a 3rd gen iPad from work and it did not fit either I dont know if maybe a 2nd or 4th gen would fit But 1st and 3rd do not and the larger 1st gen DEFINITELY doesntBeing the DIYer that I am though I decided to cut slits in the corners of the foam case so that maybe I could get the iPad to fit After probably close to an hour of fiddling with it and even cutting a deeper groove into the base of the foam and carefully using a butter knife to help with leverage I came to the unfortunate conclusion that there is no way on earth that my 1st gen iPad is ever going to fit into this thing Before trashing the thing though I decided to try my husbands 3rd gen Now with the corner slits I could get the 3rd gen iPad to barely fit with much difficulty still but it at least it barely fit I may see if my husband is willing to let our daughter use his iPad in the case for the trip instead of hers but I dont know if hell go for that Well see If not this item is pure trash Oh and another important note There is NO cutout in the foam case for the charger Supposedly they claim this is for 34safety34 but how safe do you need this thing My daughter already regularly uses the iPad with another case that has full exposure to the charging area and she has never once even considered sticking something in there She knows she has to be super careful with the ipad or else it gets taken away Its a nonissue with us But the thought of once you go through all the hassle of getting the ipad into the case having to pry it back out in order to charge and then wrangle it back it in is NOT worth it As if anything else of this product had been worth itSo overall please trust me as someone who never leaves bad reviews on products and genuinely tried everything I could to make this work for me before conceding  DO NOT BUY THIS PRODUCT Do not give it as a gift to someone Do not put it on a baby registry Do not even buy it in a garage sale for a buck Its not worth it \n",
            "\n",
            "Upfront summary This attractive product has nice features and Philips has great customer support This product also has some manufacturing variability and reliability issues Its still worth taking a chance on this product The product has a 2 year warranty and if your SCD590 set works as expected I believe it will continue working finePros This product is sleek and a pleasure to use The 2 parent units can adjust the sensitivity of the baby monitor remotely so you dont have to go into the babys room to change the sensitivity The parent units come with rechargeable 12V AAA batteries For quiet situations you can turn off the volume on the parent units and watch the lights insteadCons The recharge time for the parent units is at least 16 hours according to the manual longer if the parent unit is left on The parent unit can be used while it is on the charger base but that basically makes it a corded not cordless product 16 hours is a long time Also some components were basically dead or faulty on arrival but Philips support took care of itThere is a note inside the battery compartment of the parent unit that says only to use rechargeable batteries It seems to me you might want the option of using regular batteries if you forget to take the charging base with you on a trip Just dont put the unit on the charger base if it contains regular batteries or bad things could happenI had problems with one of the charger bases The 1st chargedischarge cycle seemed fine but during subsequent cycles whichever parent unit was charged on the 1st charger base lasted only about 12 hour before the battery was low I swapped the parent units between charger bases but had the same poor results for whichever unit was on the 1st charger base There was no outward indication that the parent unit was not charging  the light was lit the unit seemed to be placed properly in the base and everything seemed the same as the working charger baseI called customer support at Philips to ask for a replacement charger base Philips support was great They sent me a prepaid return shipping label for my set and shipped another complete SCD590 set even though I only asked for a charger baseI tried out the new set The 2nd parent unit didnt beep when its battery became low unlike all the other parent units  After another test or two that unit hardly worked at all It wouldnt charge or stay on I hadnt yet returned my old set so I planned to swap that unit for one of the old parent units But then I had the same charger base problem as I did on the 1st set In addition the old parent unit wont link with the new baby transmitter Apparently the parent units and baby transmitter function only as a set You cant mix and match parent units and baby transmitters However you can mix and match charger bases So thats what I did  I kept the old set and swapped out the faulty charger baseManufacturing reliability is pretty poor with this product Out of two sets each had one faulty charger base and one had a faulty parent unitI noticed that the parent units are very light this is a good thing and may not rest securely against the contacts in the charger base A small piece of felt placed in the back of the charger base will hold the parent unit snugly against the contacts for better charging However that solution did not fix a charger base that simply wont charge the parent unitIn summary see 1st paragraph \n",
            "\n",
            "------ Positive reviews ------ \n",
            "I love this baby monitor  I can compare this one to the Motorola MBP36 and I like this one better because the video quality is so much better on this one  I thought the MBP36 was good until I got this one then it was absolutely no contest  In fact I wish I could return the MBP36  The MBP36 is good because you can pan the camera remotely using the controls on the monitor and I like that the buttons on the monitor is on the face and not on the edges because that makes it so you are not constantly accidentally pushing buttons when youre carrying it but thats it  In video quality this one wins hands down and since thats the most important part  I prefer this one  The wide angle is nice because you can see a greater area but then youre not getting a close up  Theres a zoom feature which kind of makes up for it but if you are only using this to point into one specific area and want to see like your baby breathing  you may want to get the nonwide  angle version of this baby monitor  This one is great if you want to monitor the whole crib or a whole room  If your baby is very mobile this would be your best choice  The camera is static doesnt pan but you wont need it to because you can set it up so it shows you the whole room at onceWhat could be improved1 Battery life of the monitor  it only lasts a few hours of continuous use  The charger does have an extra long cable but it would be nice if the battery life was better2  The buttons are all along the edges of the monitor  this is nice because you get a very nice big viewing screen but not so nice because youre constantly accidentally hitting buttons on the thing when youre carring it around3  Picture quality  Yes its much better video quality than the Motorola MBP36 and its good enough that you can easily see your baby breathing but it could always be betterif were being greedyWhat is great1  Great wide screen so you can see an entire room in one shot  You dont need it to pan  Screen size is bigger and better than the MBP362  Great video quality  you can easily watch your baby breathing3  Great night vision   you can easily watch baby breathing4  Very reliable5  Excellent portability  I have a 1500 sq ft house on a half acre lot and Im able to monitor the baby from pretty much my entire property  So everywhere in the house and out in the yard as well  Excellent  It beats the Motorola MBP36 in this area as well6  Has an internal antenna which is way nicer than the externa antenna of the Motorola MBP36  while still having better connection7  The stand is better and sturdier on the monitor than the MBP368  Pretty much everything you need to monitor your baby9  The monitor and camera can be closer together before you get feedback  basically just as long as they are at least 2 feet apart you wont have feedback issues  Not like the MBP36 which gets feedback if they are in the same room  This is especially important if youre trying to adjust the placement of the camera while looking at the monitor  Or  if you rig this up in your car to use as a car baby monitor which I did  I would recommend using the nonwide screen version if using in the car but this one would work as well  I love using this in the car because 1  Its way better than trying to rig up a bunch of mirrors to monitor my baby in her rear facing car seat  2  You cant see the baby with mirrors if driving at night  but you can with this monitor because of the night vision  3  With the zoom feature you can easily see baby breathing in her car seat  this is especially important with the rise in incidents where babies stop breathing in their car seats  I am able to drive with confidence and not have to worry because I can totally see her face and chest and know everything is okay  I have the monitor mounted on my dash with a GPS monitor that accepts a 534 screen10  Durability  Ive been using this in all different capacities every day for the past 2 months and its been going strong  Ive dropped the monitor a few times and its gotten scuffed on the edges but still working greatGreat product that I use on a daily basis and am extremely happy with \n",
            "\n",
            "I bought this seat for my tall 38in and thin 28lb 2 year old daughter I was impressed with the height the seat allowed for given that my child will out grow a seat in height long before weight I needed a seat that would fit in a 2012 Focus and was FAA cerified The seat is very compact It was easy to install using the seat belt and the latch Since the seat is so compact I had enough room to get in the car and put my knee in the seat to help get a solid install I was able to do this myself in just a few minutes even in an airport parking lotMy kiddo loved the purple color That particular color is a micro suede type fabric that is super easy to clean The wings support her head well when she is sleeping She can climb in and out of the seat very easily since it is much shorter in rise than her old seat an Evenflo Symphony The clips are all great quality and the shoulder pads are nice and soft She feels less boxed in sitting in this seat She loves that she can reach things if she drops them next to her seatI used this seat for air travel shortly after purchase I found it fairly simple to deal with I am a 55 woman with a broader frame I travelled by myself with two kiddos 2 and 8 years We did not check anything we carried all our luggage on So that fact that this seat can be carried like a backpack was very helpfulSome tips for air travel with this seatGet two 2 carry straps for the seat so you can wear it as a backpack This makes the weight easier to bare is better for your back and keeps your hands freeHave rubber bands handy to roll up extra strap length The latch straps are very long and can get in the way when trying to install on the planeProsCompactEasy to install FF I have not used it RFEasy to cleanWeight and Height limitsMulitple up to 4 cup holders can be usedEasy to carry as a backpack for travelCupholders can be removed and washed in the dishwasher if they get ickyConsHeavyCup holders can be removed by child This has never bothered mePriceyOverall this is an awesome seat Id recommend it to all that can afford itDiono Radian RXT vs Britax Frontier 85If youre like me your decision has probably come down to these two seats My daughter rides in both seats I have the Radian in my vehicle 2012 Focus hatchback My husband has the Frontier in his vehicle 2009 Vibe She is equally happy with bith seatsMy husband and I are pleased with both seats We have likes and dislikes for each Ill try to give a good comparisionSeat installationThe Frontier wins here simply because it is lighterBoth seats were super easy to install in either car The bothe all install well in our 2005 Trailblazer on the odd occassion we use that car I have never in stalled the Radian RF so I can not comment on that We use th latch system on both seats I have also used the belt paths when using in other peoples cars Belt path installation is also easy The Radian is much heavier than the Frontier making it more difficult to liftSeat MaitenanceHere I feel the Radian winsThe cover on the Radian is machine washable and is easily removed The cover is one piece The straps do have to be unthreaded to remove the cover The cup holders can be put in the dishwasherThe cover on the Frontier is supposed to be handwashed not machine washable Seriously hand wash something my kid vomited on Anyway my washing machine has a handwash cycle so I used that It turned out fine Britax sells the cover for 80 The cup holders are intergrated into the seat so you have to wipe them outSeat adjustmentsIts a tie Both seats have to be completely remove from the car to make adjustmentsThe Radian has straps that need to be rethreaded to adjust But its super easy The crotch strap is easier to move than the Frontier But the head wings can be a pain I have to put my knee in the seat and apply a lot of force to move them But this means the stay in place once adjusted When putting a kiddo in the seat the ratchet mechanism to tighten the straps can be annoying My husband does not care for itThe Frontier has a mechanism on the back that moves the straps and head rest up and dowm But the adjuster is the piece I always seem to grab when picking up the seat causing the straps to move I then have to wrangle my daughter to sit in it so I can adjust the straps again Sort of annoying Once she is in the seat adjustments are easy But we didnt like the HUGS They made her sweat under them so we took them offSeat sizeThe Radian is much narrower than the Britax This could make a big difference if you want to fit 3 across a back seat or have a tiny car Otherwise It does not matterTravelI have only used the Radian for air travel It is easier to bring into an airport hands down I wouldnt even consider air travel with the FrontierAll in all either seat is a good pick It will just depend on your needs I have found I really like them both and would recommend them equally \n",
            "\n",
            "I absolutely love this product  I work as a Customer Service rep from my home  It was so difficult pumping with one hand holding the horn to my breast while typing with the other hand  Although I use a headset for the telephone I could only pump one breast at a time due to the need to be able to type with the other hand  Not sure if it was the nerves or the uncomfortable position I was holding the horn while typing but I was only able to pump from 2 to 4 oz at a time  This is 2 to 4 oz for both breasts  I was really worried I would have to supplement with formulaLooking online for something to increase my milk supply I found a few reviews on Freemie  I then started purposely looking for reviews on Freemie  I have to admit I scoffed at a couple of reviews that stated how much their milk supply had increased  Thought they were definitely exaggerating You will probably think the same of me but I can tell you truthfully that my milk supply has gone from 2 to 4 oz to 9 to 10 oz per pumping cycle with both breasts thats about 45 to 5 oz per breast  My husband had to buy me new milk containers since I am now making enough to freeze my milk  Before the milk was being put in fridge as baby was drinking faster than I could produceI am now able to pump a lot more frequently since I can just put them comfortably in my bra and the people I am on the phone with are none the wiser of what I am doing not that they new with the horns eitherlol  I am more relaxed and not so worried about my typing faster so that I can take care of more calls and not get into issues with my Supervisors  Another thing I believe has helped with my milk supply is the fact that they are so comfortable  Im not sure why maybe the way I held them to my breast or maybe I needed a bigger size but the horns were very uncomfortable to me and really made me sore  I dreaded having to pump  I noticed from day one with the Freemie that they are a lot more comfortable  My breast fits it perfectly and no more pain while pumpingThats another thing I wanted to touch upon  I almost did not purchase the Freemie when reading the one negative review on here  I have very large breast and was concerned about the fit  I believe the issue is with nipple size and not breast size since mine fit me perfectly  My breast form perfectly with the Freemie with no problems  On the contrary like I stated before they are way more comfortable than the horns which do go by breast size and I sometimes wonder if that is why mine hurt so muchThe one thing I wont say I do not like but some might feel differently as it is a bit misguiding to some is that they do not look natural  They make my already large breast look huge and with a flat tip since the bottom of Freemie is flat  Doesnt bother me much since I am working from home and only my children and husband see me pumping  I have read that wearing a bigger shirtsweatshirt over your clothes can disguise them some for use in a regular office or car  I havent tried it yet thoughWell I hope my review has helped someone make a decision in buying the Freemie  I am a VERY happy customer and highly recommend it \n",
            "\n",
            "This review is going to compare 3 JuJuBe bags  Im writing a lot because I wish I had this info before I started shopping for a diaper bag  I am a first time mom so I am probably packing different than a mom thats been around the block  Also we are cloth diapering but not 100 of the time  We use the disposable biodegradable inserts for the cloth covers when we want to pack light  and those things take up less room than traditional disposables  But I wanted a bag that gave me options for either type of diaper  Here is what I found  I hope reading this long post will help you save some time and return shipping fees while shoppingI already had the JuJuBe BFF and Be Prepared before I bought the Be Right Back backpack  I bought them at a different store one with an amazing return policy so I left the tags on and debated the bags for a long time  I packed them and repacked them so many times and this is what I came up with  The BFF is too small and the Be Prepared is too big  Both are GREAT bags  This company really makes quality products with excellent organization  Let me tell you Im a bit of a snob when it comes to quality  I will not deal with poorly made stuff breaking down on me  Straight to the donation station or trash if something sucks  This company does not suckthey manufacture very well made products with very good material zippers snaps magnets etc  Go to their website to learn about the fabric treatment process and ease of care  My friends that bought the cheapo bags are now drooling over the JuJuBe quality  So I loved both bags and I really wanted to keep them  But I couldnt get past the BFF just being a little too small and Id have to have a second bag with meand the Be Prepared is super huge and I felt like I was carrying a suitcaseBFF  This bag is really awesome  The organization is surprisingly smart  The inside pockets look small but they hold tons  You can fit a full size wipes pack in any of the four large interior pockets but you cant fill all pockets that much at the same time  The smaller back interior pockets with the zippers are smaller than the open pockets but still hold quite a lot of little stuff like bibs socks Boogie Wipes or whatever kind of little stuff you carry around  The front interior zipper pocket is long and shallow  I kept putting my nursing cover in that pocketanything bigger would bulge into the front 34mommy pocket34 and make that space smaller  The outside pockets are insulated and hold a baby bottle or water bottleI have a Kleen Kanteen 27 or 28 oz bottle and it did fit in that pocket but it stuck out a lot because its really tallI didnt like that if I was keeping the BFF bag Id have to get smaller water bottle and I didnt like that because I drink tons of water  If you load up all the inside pockets you dont have a whole lot of room left for the diapers and blankets etc  The main compartment leaves much to be desired as far as spaceif youre running to the coffee shop with your girlfriends and going home youll be finebut you cannot pack for a whole day in here  The 34mommy pocket34 on this bag is well organized but I found it a little too small  I needed to fit all of my personal items in there because there was no room in the main part of the bag  I dont carry that many things for myself a wallet coin purse pen chap stick tiny hand lotion cell phone eye drops and extra pair of contact lenses  I could not fit all that in the mommy pocket even when I put my cell phone in the separate little cell phone pocket  My take on this bag Its wonderful if you pack really light  I was not even trying to get cloth diapers in there and it was still tight  If you dont need burp clothes and a blanket and an extra outfits youd be finemaybe a mom with one toddler that is past the bottle stage  Im bummed that it didnt work because I really wanted to keep it  It really is a cute bagBE PREPARED This bag is the mother ship  Its very much like the BFF but way bigger  I was thinking of using it for our overnight or weekend bagif i were to pack this one like the babys suitcase and use the Be Right Back backpack like normal when were out of town Id have everything I needed in those two bags for a weekend  However for normal daily use the Be Prepare is a mammoth and I dont want to lug it around with me while Im trying to hold my babyit would fit all my cloth diapers and the kitchen sinkbut its over kill for me with one infant  I might keep this wonderful big bag anyway for weekend trips because we do a lot of those and I think its cool that they matchbaby luggage BE RIGHT BACK  This backpack is super cool  It is very different from the other two bags  Its almost perfectly in the middle of the 2 other sized bags  It has way less of the small inside pockets  Really only 2 big pockets on inside and 2 on outside plus mommy pocket and 2 outside bottle pockets  I do not mind at all that it has less pockets because I keep most of my really tiny stuff in the JuJuBe accessory bags  If you have a small bagpouch and dont know where to put itstick it in the mesh zipper pouch  This bag is comfortable to wear  definitely more comfortable than the BBF backpack straps even though I loaded it with more items I think that is because the bag is longer so it sits on your back differently  I have a bad back from a car accident so comfort is something I really pay attention to  This bag is easy to get in and out of  It opens flat like a suitcase so no digging for stuff  Its shaped like a traditional backpack but I dont feel like Im back in college when wearing it because the prints get big style pointsTo give you an idea of the space here is how I pack it up  I have my breast feeding cover and 6 disposable breast pads in the front pocket with room to spare  Mommy pocket fits all my personal items that I listed above with room to spare  Side bottle pockets are deeper and my tall water bottle that was too big for BFF fits great in this bag  I have easy access burp clothes in the other bottle pocket because I am still breast feeding large baby bottle or sippy cup would fit easily  The pocket on the top by the grab handle is super useful  Right now I am using it for all my different kinds of small wipes packs face wipes paci wipes anti bac wipes hand sanitizer gel etc they all fit  You could use that spot for so many different things that you want easy access to  The side zipper compartment for the changing pad is very smart  Its so out of the way  I have the pad that came with it in there now and a pack of sanitizing wipes for public bathroom changing table  Ill need a bigger pad when baby grows but you could fit a massive pad in thereor magazines or change of clothes or blanket or iPad or anything flat and you really cant even tell that you filled it upits very comfortable against your back while you wear the bag  Inside the bag in the zipper mesh pocket I have a large receiving blanket two changes of 03 month clothes 2 socks and 2 bibs  In the back mesh pocket I have a Be Mine packed as a first aid kit and a similar sized bag with a little momfreshup kit I put together for when I have baby puke in my hair and I look like a messkinda a get it together and look normal kit  I never could have fit that kit in the BFF and now that I have it I think its important to have somethings for yourself so you dont feel yucky  Those items never leave the bag without getting restockedAside from what I just listed in the main inside compartment I can fit 2 large burp cloths and 2 Be Quick bags one filled with baby items the other filled with my disposable diaper inserts for when I dont want to bring cloth diapers a full Fuel Cell cooler and babys favorite lovey  When I do want to carry my cloth diapers I ditch the fuel cell and the Be Quick with the disposables in it  I can then fit my cloth diaper pouch the pouch I use is big and could fit 4 full size AIO diapers 8 cloth wipes wipe spray a thin changing pad and wet bag  so it takes up a lot of spacethen I can still fit the Be Quick with the baby items the burp cloths the lovey a little bag with teethers and my Rockn Baby slingSo the Be Right Back fits tons  And it works wonderfully if you just put a few things in there  Im sure Ill be packing differently as my babys needs change  But for now with an infant this bag has got me covered for all day in cloth diapers or all day in disposables with a big packed lunch for mom and dad  It also still works great to pack it light for a shorter tripI just havent gotten to where I can pack light all the time personally  The bag is very versatile as far as what you can take with you  Where it is not versatile is carry style  Its a backpackif you dont like backpacks keep shoppingAll the JuJuBe accessories are made to fit into the main bags  I highly recommend getting the accessory bags so you can organize yourself and know that your stuff will always fit in your main bag  Using the smaller bags to organize makes it SO very easy to switch from bag to bag without leaving anything behind on accident  I love the organization  There are a few things that are kinda vanishing from the companies websiteI think they are revamping a few designs because they are running out of some of their most popular accessoriesI expect to see them come back with a newly added pocket or zipper or somethingJuJuBe is good about having lots of print selections to choose from  I do find a lot of the prints too feminine for my taste which is why I love the Royal Envy printhonestly if that Be Prepared bag I have was a different print Id just return it and buy that bag again later when I really need itbut Royal Envy is discontinued and I really dont want to part with it knowing it wont be available later  If you are new to this company know thisonce you pick out your main bag if you want to load up on accessories that match you better not wait too long  I cant believe how fast they sell out  then the print is discontinued and you are left to sadly troll Ebay looking for the pieces you want  Just buy them when you get the main bag  They are worth it and everything from this company has great resalethere are FB groups devoted to buy sell trade JuJuBe stuffSide note This bag is has a very sporty look  Great for normal days running around  I also bought a Nest Dexter diaper bag for dressy occasions  That bag is very different from this one and its awesome too but I havent reviewed it  And that bag fits all the JuJuBe accessory bags that I love  I mentioned my husband as a mens diaper backpack  Its the Quicksilver Daddy Day Bag  Great man bagI was going to proof read and spell check but after writing all this Im over it  Sorry for any typos  Really hope this helps you \n",
            "\n",
            "Ive had this stroller for a little more than six months When I bought it I had a barely 3 year old son and a 3 month old baby My 3 year old is now 43 inches and still has plenty of room in both the front and the back seat I cant shop without a stroller that will fit both kids  even when I wear my baby I need a place to put her if I put her down The Joovy Ergo is so much more useful than any other stroller Ive tried Every other stroller Ive had has been good for a while but then due to its limitations we outgrow it This one is adaptable so Im still happy with it even now that my newborn is growing upWere still using it mostly with the baby in her baby carrier I LOVE that she is up high and next to me I was worried it would be hard to push with my 39lb son in front but it is SO much easier than the Graco Quattro Duo we had before Its not a onehand push when the heavier child is in front unless youre just going straight My son sleeps in the front seat a lot while my daughter sleeps in the front With most any other sitnstand they wouldnt be able to do thatWhen we use it with the baby in front and the big kid in back I can push and turn it with one hand It doesnt turn on a dime but it goes much better than other tandems I good sidebyside can turn better but IMO sidebysides are for walks not shopping or crowded areas The Joovy goes to the mallstoresmuseums and fits very well through crowdsThe Joovy also performs fairly well on grass We have thick grass where I live and I was worried about this but it performs well enough that Im getting rid of my jogging stroller because we dont need it anymore for grass excursions I dont jogIt pushes through snow pretty well The front wheels arent that big and I dont want the basket wet so I avoid snow but it pushes pretty well in an inch or soTheres an art to going up a curb in it Its fairly easy to push on the back bar and raise the front of the stroller much easier than the tandem Graco but the front wheels are on quick bearings and they will skitter around fast if you are not careful The first time I did it I thought I was going to lose the whole thing but it was fine just a disconcerting feelingThe canopies are AWESOME My son often hides in the front one like its his cave The new models dont have the floppier fleece front part of the hood now its all the same fabric I didnt mind the floppy fleece anyway It works well and I like to be able to fold it backThe basket is really big and SO easy to get to Its harder to get to when the infant seat is in place I also sometimes tip the canopy all the way to the front and put big bags on the front seat that way held in by the canopyMy son says the mesh seat us realy comfy He loves it Its certainly got plenty of room for himIt weighs less and is easier to handle than our previous Graco Quattro Tour Duo which I only kept a few months It fits in the trunk of my Honda minivan Its BIG Its a BIG double tandem stroller Its just SO comfortable to use once youve got it out Ive done the lightweight thing and its nice for certain times but most of the time when were out I need a place for sleepy kids and all of our winter coats baby stuff and shopping stuffThe build quality is very solid Our Gracos had parts start to wear through by this time but the Joovy has held up I did have a problem with the front seat flopping back sometimes because I have the first version of this stroller they changed the mechanism now but I called Joovy and theyre sending a whole NEW stroller Thats incredible customer service and amazing product support In my experience this is not the norm They are going above and beyond here and I can say that I will recommend Joovy products to everyone because they are standing by what they sell No one wants to spend hundreds of dollars on something and be told to use velcro or tape to fix it but Ive heard of other companies doing just that Joovy has also listened to what people said about the Ergo and made some new updates to fix issues that people had like the seat recline and the canopy Ive noticed that Joovy did that with the Joovy Ultralight tooIts a twohand fold Once its folded you can roll it on the rear wheels really easily so moving it isnt too hard Its heavy to lift into the trunk yes but its significantly lighter than the Graco tandemHust some random information about our experiences with the strollerWhen the weather turned cold I bought the padded seat covers and theyre very nice My son chose green and it looks sharp and has stayed clean I like the seat covers a lot The rear seat cover means you have to move it a little before you can flip up the rear seat to get full access to the basket but its no big deal to me I know some people have complained about that I guess you could just use the front cover and leave the rear one offWe started out with a Graco Quattro Tour Duo but it was hard to push with my son and daughter in it very heavy and with a 3 year old the stroller seat is not ideal After two years old it seems like most kids are just much happier in the big kid sit n standWe tried the Phil  Teds but since my son is so tall for his age it just wouldnt work because the baby would have to be in the doubles kit and with the doubles kit on theres no room for diaper bags and winter coatsWe tried the Baby Jogger City Mini Double but 3 year olds and up dont want to sit in a baby seat and that thing is really BIG Dont get me wrong the Joovy Ergo is also big but Ive had it side by side with a BJCMD in a museum and the BJCMD had a lot of trouble navigating the crowds whereas the Joovy just goes right throughI chose this over the Joovy Ultralight because my son sits in the stroller so often and because my daughter was so young when I bought it If they were like age 15 and 45 Id have gotten the Ultralight The Ergo is almost a foot longer so obviously its more comfortable but less like a single stroller than the UltralightCan this be the only stroller I own No Its the size of a tandem double stroller so its big Its heavy compared to a lightweight stroller Im not sure how its going to travel So I still need a lightweight travel stroller Im thinking of getting a Joovy Kooper since Im so happy with this Joovy product and the way that Joovy stands behind their productsWere taking it to Disney World in a few months and Ill try to post an update on how it goes If I were going alone I wouldnt be able to carry the baby and the stroller on the bus by myself but since my husband is there he can do the stroller and Ill wear the baby We debated taking a lightweight stroller but in the end Id rather be comfortable all day than be comfortable on the Disney bus Somehow people rent Baby Jogger City Mini Doubles and take those on the buses and those look just as big or bigger in person so I think this will be fine \n",
            "\n"
          ]
        }
      ],
      "source": [
        "#c) Find five most positive and most negative reviews.\n",
        "class1=[]\n",
        "class2=[]\n",
        "for row in probability_arr:\n",
        "  class1.append(row[0])\n",
        "  class2.append(row[1])\n",
        "\n",
        "class1 = [(idx, item) for idx,item in enumerate(class1)]\n",
        "class2 = [(idx, item) for idx,item in enumerate(class2)]\n",
        "\n",
        "class1.sort(key=lambda a: a[1], reverse=True)\n",
        "class2.sort(key=lambda a: a[1], reverse=True)\n",
        "\n",
        "print(\"------ Negative reviews ------ \")\n",
        "for elem in class1[:5]:\n",
        "  print(reviews_test[elem[0]][0], '\\n')\n",
        "\n",
        "print(\"------ Positive reviews ------ \")\n",
        "for elem in class2[:5]:\n",
        "  print(reviews_test[elem[0]][0], '\\n')\n",
        "\n",
        "#hint: use the results of b)"
      ]
    },
    {
      "cell_type": "markdown",
      "metadata": {},
      "source": [
        "There are five most positive and most negative reviews. They were correctly classified. They are pretty long this is probably why they are **most** positive or negative."
      ]
    },
    {
      "cell_type": "code",
      "execution_count": 291,
      "metadata": {
        "colab": {
          "base_uri": "https://localhost:8080/"
        },
        "collapsed": true,
        "id": "OX4hJRR-NhHI",
        "outputId": "0e0831e8-e39a-46e8-c90a-7d7482d4810f"
      },
      "outputs": [
        {
          "name": "stdout",
          "output_type": "stream",
          "text": [
            "Accuracy:  0.9316555391196578\n"
          ]
        }
      ],
      "source": [
        "#d) Calculate the accuracy of predictions.\n",
        "correct_num = 0\n",
        "total_num = len(y_test)\n",
        "for x,y in zip(y_pred, y_test):\n",
        "  if x == y:\n",
        "    correct_num += 1\n",
        "\n",
        "print(\"Accuracy: \", correct_num/total_num)"
      ]
    },
    {
      "cell_type": "markdown",
      "metadata": {},
      "source": [
        "The accuracy is pretty high."
      ]
    },
    {
      "cell_type": "markdown",
      "metadata": {
        "id": "GOc55OMhNhHI"
      },
      "source": [
        "## Exercise 5\n",
        "In this exercise we will limit the dictionary of CountVectorizer to the set of significant words, defined below.\n",
        "\n",
        "\n",
        "a) Redo exercises 2-5 using limited dictionary.   \n",
        "b) Check the impact of all the words from the dictionary.   \n",
        "c) Compare accuracy of predictions and the time of evaluation."
      ]
    },
    {
      "cell_type": "code",
      "execution_count": 292,
      "metadata": {
        "collapsed": true,
        "id": "8igJEkaCNhHJ"
      },
      "outputs": [],
      "source": [
        "significant_words = ['love','great','easy','old','little','perfect','loves','well','able','car','broke','less','even','waste','disappointed','work','product','money','would','return']"
      ]
    },
    {
      "cell_type": "code",
      "execution_count": 293,
      "metadata": {
        "collapsed": true,
        "id": "lcqplCOnNhHJ"
      },
      "outputs": [
        {
          "name": "stdout",
          "output_type": "stream",
          "text": [
            "['love', 'great', 'easy', 'old', 'little', 'perfect', 'loves', 'well', 'able', 'car', 'broke', 'less', 'even', 'waste', 'disappointed', 'work', 'product', 'money', 'would', 'return']\n"
          ]
        }
      ],
      "source": [
        "#a)\n",
        "vectorizer_limited = CountVectorizer(vocabulary=significant_words)\n",
        "X_train_limited = vectorizer_limited.fit_transform(reviews_train.ravel())\n",
        "X_test_limited = vectorizer_limited.transform(reviews_test.ravel())\n",
        "\n",
        "print(vectorizer_limited.get_feature_names())\n",
        "\n"
      ]
    },
    {
      "cell_type": "markdown",
      "metadata": {},
      "source": [
        "There are all words from our limited dictionary."
      ]
    },
    {
      "cell_type": "code",
      "execution_count": 294,
      "metadata": {},
      "outputs": [
        {
          "data": {
            "text/html": [
              "<style>#sk-container-id-19 {color: black;background-color: white;}#sk-container-id-19 pre{padding: 0;}#sk-container-id-19 div.sk-toggleable {background-color: white;}#sk-container-id-19 label.sk-toggleable__label {cursor: pointer;display: block;width: 100%;margin-bottom: 0;padding: 0.3em;box-sizing: border-box;text-align: center;}#sk-container-id-19 label.sk-toggleable__label-arrow:before {content: \"▸\";float: left;margin-right: 0.25em;color: #696969;}#sk-container-id-19 label.sk-toggleable__label-arrow:hover:before {color: black;}#sk-container-id-19 div.sk-estimator:hover label.sk-toggleable__label-arrow:before {color: black;}#sk-container-id-19 div.sk-toggleable__content {max-height: 0;max-width: 0;overflow: hidden;text-align: left;background-color: #f0f8ff;}#sk-container-id-19 div.sk-toggleable__content pre {margin: 0.2em;color: black;border-radius: 0.25em;background-color: #f0f8ff;}#sk-container-id-19 input.sk-toggleable__control:checked~div.sk-toggleable__content {max-height: 200px;max-width: 100%;overflow: auto;}#sk-container-id-19 input.sk-toggleable__control:checked~label.sk-toggleable__label-arrow:before {content: \"▾\";}#sk-container-id-19 div.sk-estimator input.sk-toggleable__control:checked~label.sk-toggleable__label {background-color: #d4ebff;}#sk-container-id-19 div.sk-label input.sk-toggleable__control:checked~label.sk-toggleable__label {background-color: #d4ebff;}#sk-container-id-19 input.sk-hidden--visually {border: 0;clip: rect(1px 1px 1px 1px);clip: rect(1px, 1px, 1px, 1px);height: 1px;margin: -1px;overflow: hidden;padding: 0;position: absolute;width: 1px;}#sk-container-id-19 div.sk-estimator {font-family: monospace;background-color: #f0f8ff;border: 1px dotted black;border-radius: 0.25em;box-sizing: border-box;margin-bottom: 0.5em;}#sk-container-id-19 div.sk-estimator:hover {background-color: #d4ebff;}#sk-container-id-19 div.sk-parallel-item::after {content: \"\";width: 100%;border-bottom: 1px solid gray;flex-grow: 1;}#sk-container-id-19 div.sk-label:hover label.sk-toggleable__label {background-color: #d4ebff;}#sk-container-id-19 div.sk-serial::before {content: \"\";position: absolute;border-left: 1px solid gray;box-sizing: border-box;top: 0;bottom: 0;left: 50%;z-index: 0;}#sk-container-id-19 div.sk-serial {display: flex;flex-direction: column;align-items: center;background-color: white;padding-right: 0.2em;padding-left: 0.2em;position: relative;}#sk-container-id-19 div.sk-item {position: relative;z-index: 1;}#sk-container-id-19 div.sk-parallel {display: flex;align-items: stretch;justify-content: center;background-color: white;position: relative;}#sk-container-id-19 div.sk-item::before, #sk-container-id-19 div.sk-parallel-item::before {content: \"\";position: absolute;border-left: 1px solid gray;box-sizing: border-box;top: 0;bottom: 0;left: 50%;z-index: -1;}#sk-container-id-19 div.sk-parallel-item {display: flex;flex-direction: column;z-index: 1;position: relative;background-color: white;}#sk-container-id-19 div.sk-parallel-item:first-child::after {align-self: flex-end;width: 50%;}#sk-container-id-19 div.sk-parallel-item:last-child::after {align-self: flex-start;width: 50%;}#sk-container-id-19 div.sk-parallel-item:only-child::after {width: 0;}#sk-container-id-19 div.sk-dashed-wrapped {border: 1px dashed gray;margin: 0 0.4em 0.5em 0.4em;box-sizing: border-box;padding-bottom: 0.4em;background-color: white;}#sk-container-id-19 div.sk-label label {font-family: monospace;font-weight: bold;display: inline-block;line-height: 1.2em;}#sk-container-id-19 div.sk-label-container {text-align: center;}#sk-container-id-19 div.sk-container {/* jupyter's `normalize.less` sets `[hidden] { display: none; }` but bootstrap.min.css set `[hidden] { display: none !important; }` so we also need the `!important` here to be able to override the default hidden behavior on the sphinx rendered scikit-learn.org. See: https://github.com/scikit-learn/scikit-learn/issues/21755 */display: inline-block !important;position: relative;}#sk-container-id-19 div.sk-text-repr-fallback {display: none;}</style><div id=\"sk-container-id-19\" class=\"sk-top-container\"><div class=\"sk-text-repr-fallback\"><pre>LogisticRegression()</pre><b>In a Jupyter environment, please rerun this cell to show the HTML representation or trust the notebook. <br />On GitHub, the HTML representation is unable to render, please try loading this page with nbviewer.org.</b></div><div class=\"sk-container\" hidden><div class=\"sk-item\"><div class=\"sk-estimator sk-toggleable\"><input class=\"sk-toggleable__control sk-hidden--visually\" id=\"sk-estimator-id-19\" type=\"checkbox\" checked><label for=\"sk-estimator-id-19\" class=\"sk-toggleable__label sk-toggleable__label-arrow\">LogisticRegression</label><div class=\"sk-toggleable__content\"><pre>LogisticRegression()</pre></div></div></div></div></div>"
            ],
            "text/plain": [
              "LogisticRegression()"
            ]
          },
          "execution_count": 294,
          "metadata": {},
          "output_type": "execute_result"
        }
      ],
      "source": [
        "model_limited = LogisticRegression() \n",
        "model_limited.fit(X_train_limited, y_train)"
      ]
    },
    {
      "cell_type": "code",
      "execution_count": 295,
      "metadata": {},
      "outputs": [
        {
          "name": "stdout",
          "output_type": "stream",
          "text": [
            "Negative: \n",
            "word\t\tcoef\n",
            "('disappointed', -2.332719838494596)\n",
            "('return', -2.031332706376337)\n",
            "('waste', -2.0001616257882153)\n",
            "('broke', -1.6468126065831814)\n",
            "('money', -0.9293952568578915)\n",
            "('work', -0.6315629357156675)\n",
            "('even', -0.5250012409028297)\n",
            "('would', -0.3390215413130481)\n",
            "('product', -0.3318396622410652)\n",
            "('less', -0.16181879869297328)\n",
            "Positive: \n",
            "word\t\tcoef\n",
            "('car', 0.0696477394780101)\n",
            "('old', 0.0788006838351267)\n",
            "('able', 0.23642895361518534)\n",
            "('well', 0.47641565543494624)\n",
            "('little', 0.4918529480871129)\n",
            "('great', 0.9652752186988836)\n",
            "('easy', 1.1842615364431641)\n",
            "('love', 1.357962848392536)\n",
            "('perfect', 1.495127575171717)\n",
            "('loves', 1.671256459482649)\n"
          ]
        },
        {
          "name": "stderr",
          "output_type": "stream",
          "text": [
            "/home/klaud/.local/lib/python3.10/site-packages/sklearn/utils/deprecation.py:87: FutureWarning: Function get_feature_names is deprecated; get_feature_names is deprecated in 1.0 and will be removed in 1.2. Please use get_feature_names_out instead.\n",
            "  warnings.warn(msg, category=FutureWarning)\n"
          ]
        }
      ],
      "source": [
        "feature_names = vectorizer_limited.get_feature_names()\n",
        "coef = model_limited.coef_.reshape(-1).tolist()\n",
        "\n",
        "dic = {}\n",
        "for F, C in zip(feature_names, coef):\n",
        "    dic[F] = float(C)\n",
        "\n",
        "sorted_dict = dict(sorted(dic.items(), key=lambda item: item[1]))\n",
        "lowest = list(sorted_dict.items())[:10]\n",
        "highest = list(sorted_dict.items())[-10:]\n",
        "\n",
        "print(\"Negative: \\nword\\t\\tcoef\")\n",
        "for elem in lowest:\n",
        "    print(elem)\n",
        "\n",
        "\n",
        "print(\"Positive: \\nword\\t\\tcoef\")\n",
        "for elem in highest:\n",
        "    print(elem)\n"
      ]
    },
    {
      "cell_type": "markdown",
      "metadata": {},
      "source": [
        "b) Here we can see the impact of all words from the dictionary\n",
        "right now for negative words coefficient is higher than before (e.g. for 'disappointed' earlier it was -3, now it is -2.4. And generally, values are bigger.\n",
        "When we look at positive words general trend is that for limited dictionary values of coefficients are lower than before. "
      ]
    },
    {
      "cell_type": "code",
      "execution_count": 296,
      "metadata": {},
      "outputs": [
        {
          "name": "stdout",
          "output_type": "stream",
          "text": [
            "[1 1 1 ... 1 1 1]\n",
            "[[0.00155491 0.99844509]\n",
            " [0.21430537 0.78569463]\n",
            " [0.14294781 0.85705219]\n",
            " ...\n",
            " [0.08963436 0.91036564]\n",
            " [0.08880771 0.91119229]\n",
            " [0.27684922 0.72315078]]\n"
          ]
        }
      ],
      "source": [
        "#a) Predict the sentiment of test data reviews.\n",
        "y_pred_limited = model_limited.predict(X_test_limited)\n",
        "print(y_pred_limited)\n",
        "\n",
        "#b) Predict the sentiment of test data reviews in terms of probability.\n",
        "probability_arr_limited = model_limited.predict_proba(X_test_limited)\n",
        "print(probability_arr_limited)"
      ]
    },
    {
      "cell_type": "code",
      "execution_count": 297,
      "metadata": {},
      "outputs": [
        {
          "name": "stdout",
          "output_type": "stream",
          "text": [
            "------ Negative reviews ------ \n",
            "My wife has been sucessful using the pump but generally speaking the pump has numerous idiosyncrasies that you should consider before purchasing it  Had we done more homework we likely would have chosen a different pump  If only you could return a personal item to Babies r Us once youve opened it we wouldMy main complaint is that the pump is not very practical  While my wife expresses a fair amount of milk using the product she obtained the same amount of milk using the Medela pump Symphony  There is a long unrelated story why we rented a Medela pump for 2 weeks but it provided a useful period to compare the products sidebysideIn order of importanceSetup  A lot of parts to plug in connect and ultimately clean not to mention misplace or loose  Medela has this pump beat handsdown on this front  Managing this process at home is a chore if youre pumping at work I would imagine this becomes even more difficult  I suppose this is why Avent dont provide the option of a car power adapter  Avent tries sugar coatingspinning this fact out of the gate in the instructional dvd they provideWhile setup appears difficult at first youll soon become use to it  Yeah you get used to but why should you  You dont with the competing products and just think about having to deal with this in the middle of the night when you are sleep deprivedTubing  As a previous user stated the tubing is not very flexible  Especially compared to Medelas tubing  The tubing for the Avent Duos pumps and the corresponding control cord are bound together from the base up to about 75 the length of the tubes  Medelas has separate tubes for each pump  They are much more flexible and lighter  What does this all mean Medelas product is easier to attach separate and MUCH less prone to tip over  Again bad design on Avents part  Fortunately for the time being as my wife is still at home we dont remove the tubing from the pump itself but I see this becoming an issue once she returns to workTop Heavy  As mentioned in other reviews the pump units are top heavy and prone to tipping  The first time this happened my wife cried  The inflexiblefused tubing exacerbates this problem  If you buy the pump be warned and most of all be careful As mentioned in other reviews they only make base stabilizers for the 4oz bottles  To my knowledge youre out of luck for larger bottles and the reuseabledisposable VIA bottles Keep in mind  using a bigger Avent bottles doesnt solve the topheavy problemWaste  Compared to the Medela pump more milk is wasted using the Avent pump  Trust me every drop counts youll see  It is frustrating to see precious drops going to waste  Milk tends to collect behind the soft petals on the front of the horns  Its difficult and messy to harvest these drops  Also milk pools under the rubber diaphram that creates the suction on the horn  This is the area right above where the milk should drop into the bottle  You think they would design it so the milk flows right in  Well it doesnt it has to raise above the level of separate component you need to plug into the bottom of the horn  The milk that collects here is easier to harvest however by pulling off the cap and diaphram then pouring it into the bottle  Again poor design  Lastly the horns themselves dont seem to be designed with the same angle drop that the Medela ones are so you need to hunch over to compensate  If not this is why milk collects behind the soft petals  Overall the Medela pump is easier to use more comfortable and wastes less milk  Recapturing what little waste there is with the Madela pump is certainly easierNoise  The Medela Symphony product was barely audible  This pump makes a fair amount of noise As another review noted we were expecting it to be quiter  Perhaps the cheaper Medela pumps arent as quite as the one we were usingCollectively these detract from its overall usefulness and practicality  Considering what we paid for the pump Im disappointed in the experience and was expecting a much better product  Im willing to bet youll be disappointed too  Pumping is a task youll need to perform many times a day for an extended length of time  In a best case scenario pumping is a task that you endure  Why make it more difficult than it needs to beOne last bit of anecdotal information that I cant seem to escape is thisIn the SF Bay Area there is an awesome maternity support center named DayOne  Among the many services they provide is salesconsultingrenting of breast pumps  When a new pump comes on the market they ask vendors to provide a few pumps for testing purposes  Avent refused this request This resource center is one of the most influential providers of information to breastfeeding mothers in the area  If the pump is so good why not allow this center to test the pump for a few months  Instead Avent distributes this pump through BrU only  With all due respect the staff at these stores have little if any insight to offer consumers or extensive experience with the pumps they sellCall me a conspiracy theorist but this leads me to believe Avents got something to hide  If so shame on them  This is a new product for Avent and until they solve these problems I highly recommend you consider an alternativeI hope this review did not come across too jaded  It is a strong pump  However this one strength is certainly eclipsed by the many weaknesses listed If nothing else throw out my commentary but take the factors I mention Setup Waste Tubing and overall practicality into consideration when selecting a pump Especially as it relates to where and when you will be pumping  And remember youll need to be pumping in the middle of the nightBest of luck and most of all choose carefully\n",
            "class: -1 \n",
            "\n",
            "I loved all the features of the car seat  It is an awesome car seat and you could take it from one car to another and adjust from rearfacing infant to forward facing 4 yo in a minute or two  The features are awesomeI purchased this about a week ago  Although I loved the ease of use for me I was unhappy with my 2 yos posture  regardless of the incline used  I decided to return it  As a PT Im particular about posture  The back of the seat is more curved than out Chicco key fit with the legs slightly elevated and therefore creating a rounded postureI was SHOCKED  when I went to return the item purchased through AMAZON LLC  that I couldnt print a return label  Turns out this is a NON returnable item  Its not that you would even have to pay for the return shipping  you cant return it AT ALL  I even double checked and the vendor was definitely AMAZON  Not an outside VendorAs someone who buys thousands of dollars worth of stuff directly from Amazon I was really surprised  Ive never encountered anything like this and Ive returned things in the past  It is usually very simpleI dont think there was any warning when I bought it that it was non returnable  I definitely cant find any sort of warning on product page nowDouble check with the vendor before you buy this if you think there is even the slightest chance you will want to return it\n",
            "class: 1 \n",
            "\n",
            "beware that the quality is not as good as it looks in the picture the fabric is thin and the quality is not what u would expected based on the pictures we are not satisfy and requested a return but what even worse is the seller will not pay for any return shipping cost consider we have paid 20 shipping on buying and it seems like we will be paying another 20 for return shipping after all it seems we will be paying 40 up front out of pocket in order to get our 60 back now we dont even know if should keep it or return it it sounded like a very good deal at the very beginning but think twice before buying you dont want to end up in the same boat as we are in now i would rather have paid a 100 and bought this from target or somewhere else where i can return it and get exact 100 back if i dont feel satisfy\n",
            "class: -1 \n",
            "\n",
            "I really like this shopping cart bag EXCEPT that the zipper that holds this bag together when not in use broke after 2 uses  Since the 2nd use happened after the end of the 30 day return policy AND since I had already used the product of course I did  how else would it break the seller would not accept a return  BabyAge was the seller I purchased through on Amazon and I DO NOT RECOMMEND THEM  The product of course also was at fault so I also contacted BuggyBagg and after a couple voicemails  emails to them I did not receive a return call or return email\n",
            "class: -1 \n",
            "\n",
            "I recieved this chair as a gift my husband put it together and we decided to return it in minutes The front side wasnt painted or finish the cushions were not even an inch thick and extremely hard and overall this looked and felt extremely cheap Very disappointed in this purchase Do not waste your money on this chair you will only be disappointed Also doesnt have a lock for when chair isnt in use so your little one is likely to get their fingers caught in it\n",
            "class: -1 \n",
            "\n",
            "------ Positive reviews ------ \n",
            "As parents of two little ones Id like to say we are experts in appreciating different baby bottle designs and what works best for baby  Heres our criteria for a baby bottle and why the purpleredesigned Lansinoh mOmma natural wave bottle is 5 stars for usOur Baby Bottle CriteriaFirst and foremostBABY MUST LIKE ITMunchkin Latch BottleFails here because the nipple easily collapses  Just a very slight pressure with your finger and the nipple collapses  Now imagine a moving baby with a slurping motion and this nipple collapses too easilyAvent Classic BottleWe have a dozen of these from our firstborn  Unfortunately our son just wont take these  We tried all of the nipple sizes from NB to level 3 he just wont take it  We had learned long ago to just get 1 bottle of each type because different babies like different bottles no rhyme or reason  Our daughter loved theseAvent Natural Flow bottlenippleHe will actually finish a full bottle with this but the bib and burp cloth will be drenched  The widerflat design means he just drools and drools  Maybe good for others but not for himDr BrownHe was colicy at first and this is the only bottle he would take without drooling  He loves them we the parents despise them because of the cleaning  6 parts to clean  But baby first and we endured this for 67 months until we discovered the Lansinoh mOmma Natural Wave bottlesLansinoh mOmma Natural Wave bottleI put asterisks around Natural Wave because Lansinoh has an older 34Lansinoh mOmma34 that is round in shape and has orange coloring  The Lansinoh mOmma natural wave bottles look like regular bottles and are purple in coloring  So make sure you are reading about the right mOmma typeThis is the only bottle in addition to the Dr Brown that he would take  No drooling we dont even need a bib or burp cloth he finishes everything and most of all it is so easy to clean  just 4 parts more on that laterAfter baby approves the next criteria isHOW EASY IS IT TO CLEANMunchkin Latch BottleThis is pretty terrible probably 1star for cleaning along with Dr Brown  The nipple is an accordion design on the bottom that is supposed to allow for easy movement and probably why it collapses so easy under suction  Well can you imagine trying to clean in between the grooves of an accordion  What a pain  Then it has this bluevent piece at the bottom of the bottle that you have to pop out and has small crevices that you cant really fit any bottle brush into not even the Munchkin baby bottle brush set  hah  Furthermore having this 34hole34 at the bottom is terrible if you soak your bottles with water because you always have to have the bluevent piece in thereAvent ClassicProbably a 2 for cleaning because it has 5 parts  It has this blue ring that is annoying to clean  We put up with it for 2 years until we switch our daughter to cow milkAvent Natural FlowProbably a 4 for cleaning because it has 4 parts  The middle nippleholder piece is designed justso that it really tears up the sponges in your bottle brushDr BrownAll parents despise cleaning them yet babyfirst and this is the bottle we used for 67 months until we discovered the new Lansinoh mOmma redesign  If I could give negative stars for cleaning a Dr Brown bottle I would  All of the small intricate parts are a pain to clean ask anyone blehLansinoh mOmma Natural Wave purple bottleWe love it 5stars for cleaning  4 simple parts that is compatible with our bottle brush nice wide design easy to assemble super easy to cleanOVERALL DESIGN THOUGHTSMunchkin Latch BottleTerrible  The lid completely covers the middlenippleholder part  This means after you have warmed up the bottle with hot water you spin and spin the lid because theres no other surface to grab and its slippery because it is wet  If you have soapy hands and are trying to unscrew the top it will spin and spin too All of the other bottles the lid restson or at least is designed such that you can easily grip and separate the caplid  Terrible to transport must use a sealing disc else it leaksAvent ClassicHas a flat top  Easy to put down the caplid and wont roll away while adding formula etc  Easy to grip just dont like the extra 34ring34 that must be cleaned  Used this for 2 years with our first one  Smallest size is 4 ounces or 125 ML  this was too little and the 9 ounce was a big leap  5 ounces would have been perfect for a long time Easy to transport no spills nothing extra requiredAvent Natural FlowSame slippery lid issue as the Munchkin but not as bad  Rolls around the counter if you take the caplid off  Smallest size is also 4 ounces125 ml  Easy to transport no spills nothing extra requiredDr BrownThe bottle we the parents despised cleaning the most but we used it for 67 months because it DID help with a colicy baby  Sometimes you gotta do what you gotta do  Smallest size is 4 ounces 120 ml but you CANNOT overfill it will leak We despise the 9ounce version of Dr Brown  too big for our bottle brush and bleh it actually makes cleaning worse if that was possible  Another terrible design is that you have to take the cap off to install a sealingdisc if you transport this  The last thing you want to do in a public place is have to take the cap off etc exposing the milk to the elements  If you put this in an insulated cooler and the bottle is not kept vertical and tips over youll have milk everywhereLansinoh mOmma Natural Wave the purple one not the orange oneThe lid is great it has a completely flat side that is easy to put down and wont roll around  Our baby can drink an entire bottle with no bib or burp cloth  The smallest size is 5 ounces which is perfect for our babys needs Easy to transport no spills nothing extra requiredBasically all the benefits of the Dr Brown but easy to clean  Baby likes it and we don8217t even use a bib or burp cloth when using this bottle\n",
            "class: 1 \n",
            "\n",
            "We bought this stroller about 2 weeks ago I absolutely love it I have a 3 year old and a 5 month old They both fit in the stroller great My 3 yr old was so excited about this stroller He loves the color blue the canopies the UV shade everything He is looking forward to using the boot this winter I love love love the big basket Yes there is a bar across it However I am able to get a backpack in over the bar To take it out we just unsnap the back of the basket and pull the backpack under the bar It really is easy The stroller steers well I have not noticed it pulling to one side despite the 15 pound weight difference between my boys We have not used the rain shield but the UV shade is great The canopy will cover the whole front of the stroller but the UV shade keeps the boys shady when they want to be able to look out The infant boot works well It is meant to go across the whole front but is possible to use it on just one side The harness is easy to adjust We were using the Combi Citty Savvy single It had the worst harness adjusters The Maclaren Techno uses the same crappy adjusters On the Tango you just slide the clip up or down It is simple and it stays put The harness fits both of my boys The seats recline nicely the canopies are huge The stroller is easy to steer and the handle is comfortable I have done a little onehanded steering but that is not easy It is a double stroller after all The Tango is a great looking stroller I have read reviews in which people talked about wanting a stroller that looked good I thought that was silly However we have gotten so many comments on this stroller I have to admit that it is a little flattering Silly but true Someone complained about having trouble opening the stroller It is challenging at first We finally figured out that you have to push down on the little handle on the side of the stroller You pull that handle to close it and push it to open it Once you figure that out it is super easy to open My one complaint is that the stroller is pretty large when folded I have two carseats tethered in the back of my 2004 Odyssey In order to get the stroller in I have to loosen one of the tethers first We put the stroller under the tether then tighten the tether I am able to fit bags in front of and beside the stroller but it takes up A LOT of room We are going out of town later this month and I have no idea how I am going to fit in our luggage with the stroller I am considering strapping the stroller on the roof So if a small fold is a must go with the Combi or McLaren I thought both of those were rather flimsy though The McLaren was VERY narrow and had shallow seats We decided we would just live with the large fold and get the Zooper I am SO glad we did It is well worth the money\n",
            "class: 1 \n",
            "\n",
            "We bought this stroller after selling our beloved BOB rev on craigslist We used the BOB for 9 months for my son but it just wasnt practical I dont jogrun it didnt have a big basket and was very bulky to take into stores quickly However I did love how it unfolded easily but it was heavy to fold up and lift into my small trunk myself Overall I didnt realize what Id need in a stroller until AFTER I had my son Live  learn We did love how easily the BOB would go over pretty much anything Nevertheless we sold it and after extensive research on strollers we decided it was between the uppababy brand because of the large baskets OR the city mini GT because of its easy fold up design After looking over both strollers I decided on the uppababy cruz because of a few main factors It SITS UP I cant tell you how much my son hates being reclined when he is just riding in the stroller and not napping The BOB and the City Mini had a slight recline and he always tried sitting more upright The uppababy sits up like your sitting in a chair He loves it It also reclines nearly flat The foot rest can be positioned upwards so that its as if he is sitting on the floor because he is so upright and his feet are out in front of him Also the LARGE basket was a HUGE plus I cant tell you how great evvvvverything fits in there Its perfect and soooo easily accessable The city mini gt did NOT have a big enough basket for me and there for was not the right choice for me despite the very easy fold up The true test for us was this past weekend when we took it to Maine on a camping trip YES it is no BOB However I thought it was just fine over the rough bumps of a campground Bumpy ride Yes But nothing my 10 month old couldnt handle and honestly It wasnt that bad We took it to old orchard beach and as I suspected it didnt roll over the sand like my good old BOB did But it rolls really nicely on pavement and I just carried my son over to the beach and I figure he will be 1 soon enough and walking so I wont need the stroller on the beach anyways I also love the reversable seat that comes in handy because my son is going through some sort of attachment to mommy thing so he likes being able to face me from time to time I also love that the Cruz is a less expencive option to the Vista The vista is much much heavier and a little bigger And since we didnt need the extras that the Vista comes with this was the better option for us Also I called Uppababy and asked about a belly bar and toddler board for the cruz and they told me that BOTH would be available The belly bar will be out this summer and the board is in producton huge plus So for us this stroller was a hit but as anything goes you MUST research what YOU need in a stroller and figure out whats important to you Some people dont care about a big basket and in that case id for sure go with the City mini gtUPDATE1713We are in LOVE with this stroller still It fits great in the trunk of my saturn ion and how I fold it is I take the seat off first takes 1 second and then fold the frame I found it fits and folds better that way plus some times my son likes to sit forward and sometimes backwards still so I just set up the frame and then throw the seat on top depending on which way i think he wants to sit The basket is just my fave feature I cant tell you how happy I have been with the uppababby My son is 16 months old and loves sitting in his uppababy well worth it still\n",
            "class: 1 \n",
            "\n",
            "I have been on the hunt for the perfect diaper bag for a long time now Two have torn on me in the past year and I needed to find one that will last For weeks I have been researching and reviewing diaper bags and I finally bought this Skip hop Bento bag in Olive  At first I didnt like this bag at all It didnt fit all my junk as well as other bags or so I thought because the main compartment is shallow due to the food compartment at the bottom  However after using this bag for a month I really have grown to love it  First the food compartment at the bottom of this bag is huge and amazing  If all the food is stored in that compartment it keeps the rest of the bag crumb free I love the three containers it comes with too The lids snap on really well and they are the perfect size  However the entire lunch bag does not fill the bottom compartment all the way which leaves the bag unstable  Even when I add a few other snacks the bag is still awkward  However unless I am packing a lunch or need to keep something cold I dont carry around the entire lunch container I just put the individual small containers in the bag and there is still room for a lot of other food and snacks  The bag seems to be more stable that way as well I do LOVE the bottom compartment but sometimes it is hard to access it if the bag is in the car or pushed up against the wall  Another thing I really love about the bag is the side insulated pockets that zip up for sippy cups and bottles  I wish all bags had that feature  The pockets are really big and can fit any size bottle or sippy cup My son needs his milk everywhere we go so it is nice because the insulated pockets keeps the milk cold for longer and keep the bottle clean since it zips up As I stated earlier the main compartment of the bag is really shallow because of the snack compartment at the bottom  There are pros and cons about this The nice part is that since it is not so deep it is easier to find everything in the bag  Items dont get lost in the bottom like they do in other bags The con is simply that you cant carry as much in the top as other bags or things that are big  I used to carry coloring books and other long toys but they dont fit as well in this bag However since I can carry all my food in the bottom compartment I do have more room in the top for other items Also there are a lot of pockets on the outside that are perfect for organizing my items  There is a nice big zipper compartment on the very outside for my glasses hand sanitizer gum and so on  THen there is a small zipper pocket perfect for a cell phone and keys  Then there is a nice large zipper compartment next to the main compartment  I keep my wallet makeup and other similar items in there  It is all very well organized and easy to find I dont like  the changing pad because it is really small and is not made for a toddler or a large baby  I am using my jjcole changing pad because it is a lot better Lastly the fabric seems to be extremely durable The bag is  built tough and I think it will last for a while  I am rough on my diaper bags so hopefully this one will last The color is nice too  It is by no means a gorgeous bag however it is very functional  I have purchased a lot of pretty bags but the quality and functionality has never been equal to this bag  Overall I really like this bag  It helps to keep me well organized and the material is very durable It is big enough to accommodate my needs with two kids and it has room for all my items so I dont need to carry an additional purse\n",
            "class: 1 \n",
            "\n",
            "I literally have owned almost every stroller No I am not a shopaholic I just think and know that there is no perfect stroller so as needs changed strollers were addedI now have 3 children and one very messy garage  Heres the listPeg Perego Venezia nice ride too big too heavyAprica great shade tough to maneuver sometimes wont close STRESSSnap N go miracle stroller for the first 12 months provided baby stays with in the weight rangeMaclaren Triumph awesome umbrella stroller no snack tray for parent or childCountless cheap umbrella stroller I toss and go on vacations all really just not so goodGraco duo long and heavy poor turning radius I actually returned this one  only 1 I ever returned Twin Umbrella travel stroller heavy piece of not so goodCombi twin Savvy  awesome weight great canopy folds compact nice ride my favorite for a doubleSit N Stroll great for the planetravel not really great as either a stroller or a carseat but for short term it is fabulousWith child 3 I didnt want or need another  I was going to do the Snap N go until 12 months then straight to the Maclaren but yes I did bc I gave away most of the above and I ran over my Snap N go   oops  My 3rd child turned out to be a giant baby  20  lbs at 4 month so he outgrew the Snap N go anyways  and didnt he have the neck support for an umbrella stroller so I sucked it up and bought the Aria One Handand I love it  Comfy  full recline roomy LIGHT  I am littler 5ish and  my baby is a chunker and most other strollers are heavy so this is GREAT for my back easy to maneuver and folds handily  The basket is big it is hard to get to when baby is sleeping but so  It has a parents cup holder and a snack tray for the child  great  It cleans in the washing machine too  The straps take some getting used to but if I didnt have an over the shoulder strap system with this child he will figure out how to slip out  the little bugger  SoI absolutely dont think you can have it all in one stroller but this one is close  I LOVE LOVE LOVE  the Aria for almost everything except travelling Maclaren is more compactAnd orange is such a snappy color for my little hipster\n",
            "class: 1 \n",
            "\n"
          ]
        }
      ],
      "source": [
        "#c) Find five most positive and most negative reviews.\n",
        "class1=[]\n",
        "class2=[]\n",
        "for row in probability_arr_limited:\n",
        "  class1.append(row[0])\n",
        "  class2.append(row[1])\n",
        "\n",
        "class1 = [(idx, item) for idx,item in enumerate(class1)]\n",
        "class2 = [(idx, item) for idx,item in enumerate(class2)]\n",
        "\n",
        "class1.sort(key=lambda a: a[1], reverse=True)\n",
        "class2.sort(key=lambda a: a[1], reverse=True)\n",
        "\n",
        "print(\"------ Negative reviews ------ \")\n",
        "for elem in class1[:5]:\n",
        "  print(reviews_test[elem[0]][0])\n",
        "  print(\"class:\", y_test[elem[0]], '\\n')\n",
        "\n",
        "print(\"------ Positive reviews ------ \")\n",
        "for elem in class2[:5]:\n",
        "  print(reviews_test[elem[0]][0])\n",
        "  print(\"class:\", y_test[elem[0]], '\\n')\n"
      ]
    },
    {
      "cell_type": "markdown",
      "metadata": {},
      "source": [
        "In negative reviews is one badly classified, we can see that this model is doing a bit worse."
      ]
    },
    {
      "cell_type": "code",
      "execution_count": 298,
      "metadata": {},
      "outputs": [
        {
          "name": "stdout",
          "output_type": "stream",
          "text": [
            "Accuracy:  0.8686682924879063\n"
          ]
        }
      ],
      "source": [
        "#d) Calculate the accuracy of predictions.\n",
        "\n",
        "correct_num = 0\n",
        "total_num = len(y_test)\n",
        "for x,y in zip(y_pred_limited, y_test):\n",
        "  if x == y:\n",
        "    correct_num += 1\n",
        "\n",
        "print(\"Accuracy: \", correct_num/total_num)"
      ]
    },
    {
      "cell_type": "markdown",
      "metadata": {},
      "source": [
        "Here accuracy is much lower than before. So predictions were better with the full dictionary."
      ]
    },
    {
      "cell_type": "markdown",
      "metadata": {},
      "source": [
        "c)\n",
        "logistic regression + fit model for all words:  2m 2.4s       \n",
        "for limited dictionary:                         0.2s\n",
        "\n",
        "The difference in time is significant when we have a limited dictionary we can do predictions much faster, than with a full dictionary."
      ]
    }
  ],
  "metadata": {
    "anaconda-cloud": {},
    "colab": {
      "provenance": []
    },
    "kernelspec": {
      "display_name": "Python 3.10.8 64-bit",
      "language": "python",
      "name": "python3"
    },
    "language_info": {
      "codemirror_mode": {
        "name": "ipython",
        "version": 3
      },
      "file_extension": ".py",
      "mimetype": "text/x-python",
      "name": "python",
      "nbconvert_exporter": "python",
      "pygments_lexer": "ipython3",
      "version": "3.10.8"
    },
    "vscode": {
      "interpreter": {
        "hash": "97cc609b13305c559618ec78a438abc56230b9381f827f22d070313b9a1f3777"
      }
    }
  },
  "nbformat": 4,
  "nbformat_minor": 0
}
